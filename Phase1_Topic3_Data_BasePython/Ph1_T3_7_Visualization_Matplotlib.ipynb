{
 "cells": [
  {
   "cell_type": "markdown",
   "metadata": {
    "cell_style": "center",
    "slideshow": {
     "slide_type": "slide"
    }
   },
   "source": [
    "<div style=\"color:white;\n",
    "           display:fill;\n",
    "           border-radius:5px;\n",
    "           background-color:#5642C5;\n",
    "           font-size:200%;\n",
    "           font-family:Arial;letter-spacing:0.5px\">\n",
    "\n",
    "<p width = 20%, style=\"padding: 10px;\n",
    "              color:white;\">\n",
    "Python: Visualizing your data with Matplotlib\n",
    "              \n",
    "</p>\n",
    "</div>\n",
    "\n",
    "Data Science Cohort Live NYC Feb 2022\n",
    "<p>Phase 1: Topic 3</p>\n",
    "<br>\n",
    "<br>\n",
    "\n",
    "<div align = \"right\">\n",
    "<img src=\"Images/flatiron-school-logo.png\" align = \"right\" width=\"200\"/>\n",
    "</div>\n",
    "    \n",
    "    "
   ]
  },
  {
   "cell_type": "markdown",
   "metadata": {
    "cell_style": "center",
    "slideshow": {
     "slide_type": "slide"
    }
   },
   "source": [
    "#### Visualization\n",
    "\n",
    "Conveys information to yourself or others! \n",
    "\n",
    "- Should allow one to see structure in data clearly:\n",
    "    - Structure = trends, comparisons, groupings, signature features.\n",
    "<br>\n",
    "<br>\n",
    "- Choosing the right plot:\n",
    "    - What type of structure are you trying to represent?\n",
    "    \n"
   ]
  },
  {
   "cell_type": "markdown",
   "metadata": {
    "cell_style": "center",
    "slideshow": {
     "slide_type": "slide"
    }
   },
   "source": [
    "- Purpose:\n",
    "    - What are you trying to show?\n",
    "    - Quantitative? \n",
    "    - Qualitative?\n",
    "\n",
    "\n",
    "\n",
    "    \n"
   ]
  },
  {
   "cell_type": "markdown",
   "metadata": {
    "slideshow": {
     "slide_type": "subslide"
    }
   },
   "source": [
    "- Informative:\n",
    "    - Structure apparent upon a glance.\n",
    "    - Scales should be appropriate and apparent. \n",
    "    - Quantitative: numbers can be read off."
   ]
  },
  {
   "cell_type": "markdown",
   "metadata": {
    "slideshow": {
     "slide_type": "subslide"
    }
   },
   "source": [
    "- Clear:\n",
    "    - Not too much info/clutter!\n",
    "    - Legibility and labeling.\n",
    "    - Color, size, shape: use contrast to convey information."
   ]
  },
  {
   "cell_type": "markdown",
   "metadata": {
    "cell_style": "center",
    "slideshow": {
     "slide_type": "slide"
    }
   },
   "source": [
    "What's wrong with this? \n",
    "<br>\n",
    "<br>\n",
    " <div align>\n",
    "    <center><img src=\"Images/CDC.png\" align = \"center\" /></center>\n",
    "</div>"
   ]
  },
  {
   "cell_type": "markdown",
   "metadata": {
    "cell_style": "split",
    "slideshow": {
     "slide_type": "slide"
    }
   },
   "source": [
    "What's wrong with this? \n",
    "<br>\n",
    "<br>\n",
    " <div align>\n",
    "    <center><img src=\"Images/yscalebad.png\" align = \"center\" width = 600/></center>\n",
    "</div>"
   ]
  },
  {
   "cell_type": "markdown",
   "metadata": {
    "cell_style": "split",
    "slideshow": {
     "slide_type": "fragment"
    }
   },
   "source": [
    "The true scale.\n",
    "\n",
    " <div align>\n",
    "    <center><img src=\"Images/yscalegood.png\" align = \"center\" width = 600/></center>\n",
    "</div>\n",
    "\n",
    "Was difference meaningful? Error bar? \n",
    "- If meaningful, want to highlight **difference**."
   ]
  },
  {
   "cell_type": "markdown",
   "metadata": {
    "slideshow": {
     "slide_type": "slide"
    }
   },
   "source": [
    "Stacked bar charts:\n",
    "\n",
    "<br>\n",
    "<br>\n",
    " <div align>\n",
    "    <center><img src=\"Images/diagnoses.jpg\" align = \"center\" width = 600/></center>\n",
    "</div>\n",
    "\n",
    "What is the purpose of this plot?"
   ]
  },
  {
   "cell_type": "markdown",
   "metadata": {
    "slideshow": {
     "slide_type": "slide"
    }
   },
   "source": [
    "Eye is good at judging linear measures and bad at judging relative areas -- particularly ones related to angles.\n",
    " <div align>\n",
    "    <center><img src=\"Images/piechart.png\" align = \"center\" width = 400/></center>\n",
    "</div>\n",
    "Sometimes ask yourself whether a table will serve you better."
   ]
  },
  {
   "cell_type": "markdown",
   "metadata": {
    "slideshow": {
     "slide_type": "slide"
    }
   },
   "source": [
    "Oh hell no...\n",
    "<br>\n",
    "<br>\n",
    " <div align>\n",
    "    <center><img src=\"Images/kanye.jpeg\" align = \"center\" width = 500 /></center>\n",
    "</div>\n",
    "\n"
   ]
  },
  {
   "cell_type": "markdown",
   "metadata": {
    "slideshow": {
     "slide_type": "slide"
    }
   },
   "source": [
    "Plot comparison (not great vs. good):"
   ]
  },
  {
   "cell_type": "markdown",
   "metadata": {
    "cell_style": "split",
    "slideshow": {
     "slide_type": "fragment"
    }
   },
   "source": [
    " <div align>\n",
    "    <center><img src=\"Images/handlength_bar.png\" align = \"center\" width = 600 /></center>\n",
    "</div>"
   ]
  },
  {
   "cell_type": "markdown",
   "metadata": {
    "cell_style": "split",
    "slideshow": {
     "slide_type": "fragment"
    }
   },
   "source": [
    " <div align>\n",
    "    <center><img src=\"Images/handlength_scatter.png\" align = \"center\" width = 600 /></center>\n",
    "</div>"
   ]
  },
  {
   "cell_type": "markdown",
   "metadata": {
    "slideshow": {
     "slide_type": "slide"
    }
   },
   "source": [
    "An excellent resource on how to do things right:"
   ]
  },
  {
   "cell_type": "markdown",
   "metadata": {
    "slideshow": {
     "slide_type": "fragment"
    }
   },
   "source": [
    " <div align>\n",
    "    <center><img src=\"Images/tuftee.jpg\" align = \"center\" width = 400 /></center>\n",
    "</div>"
   ]
  },
  {
   "cell_type": "markdown",
   "metadata": {
    "cell_style": "split",
    "slideshow": {
     "slide_type": "slide"
    }
   },
   "source": [
    "With above considerations of visualization in mind:\n",
    "\n",
    "#### Matplotlib: the mother of all Python visualization \n",
    "\n",
    "- Can do pretty much anything regarding visualization in Python.\n",
    "- Focus on tip of iceberg: basic plotting functions.\n",
    "    - pyplot\n",
    "    "
   ]
  },
  {
   "cell_type": "markdown",
   "metadata": {
    "cell_style": "split",
    "slideshow": {
     "slide_type": "fragment"
    }
   },
   "source": [
    "<div align>\n",
    "    <center><img src=\"Images/mpl_logo.png\" align = \"center\" /></center>\n",
    "</div>"
   ]
  },
  {
   "cell_type": "markdown",
   "metadata": {
    "cell_style": "split",
    "slideshow": {
     "slide_type": "slide"
    }
   },
   "source": [
    "<img src=\"Images/matplotlib_anatomy.png\" width = 600>"
   ]
  },
  {
   "cell_type": "markdown",
   "metadata": {
    "cell_style": "split",
    "slideshow": {
     "slide_type": "fragment"
    }
   },
   "source": [
    "__Figure__ - This is the \"sheet of paper\" all of your graphing sits on. \n",
    "\n",
    "__Axis__ - An axis is an individual plot. You can have multiple axes on one figure\n",
    "\n",
    "__Major/Minor Ticks__ - The large and small dashes on the x and y axis\n",
    "\n",
    "__Markers__ - In a scatter plot each of the points is refered to as a marker\n",
    "\n",
    "__Spines__ - The lines that bound each axis"
   ]
  },
  {
   "cell_type": "markdown",
   "metadata": {
    "cell_style": "center",
    "slideshow": {
     "slide_type": "slide"
    }
   },
   "source": [
    "#### Pyplot frameworks\n",
    "\n",
    "- Many different ways to create plots:\n",
    "    - plt.plot() framework: really easy, but not flexible.\n",
    "    - plt.subplots() methods: balance of flexibility/abstraction and ease.\n"
   ]
  },
  {
   "cell_type": "code",
   "execution_count": 4,
   "metadata": {},
   "outputs": [
    {
     "ename": "ImportError",
     "evalue": "\n\nIMPORTANT: PLEASE READ THIS FOR ADVICE ON HOW TO SOLVE THIS ISSUE!\n\nImporting the numpy C-extensions failed. This error can happen for\nmany reasons, often due to issues with your setup or how NumPy was\ninstalled.\n\nWe have compiled some common reasons and troubleshooting tips at:\n\n    https://numpy.org/devdocs/user/troubleshooting-importerror.html\n\nPlease note and check the following:\n\n  * The Python version is: Python3.8 from \"/Users/jonathanflores/anaconda3/envs/learn-env/bin/python\"\n  * The NumPy version is: \"1.19.1\"\n\nand make sure that they are the versions you expect.\nPlease carefully study the documentation linked above for further help.\n\nOriginal error was: dlopen(/Users/jonathanflores/anaconda3/envs/learn-env/lib/python3.8/site-packages/numpy/core/_multiarray_umath.cpython-38-darwin.so, 0x0002): Library not loaded: @rpath/libopenblas.dylib\n  Referenced from: /Users/jonathanflores/anaconda3/envs/learn-env/lib/python3.8/site-packages/numpy/core/_multiarray_umath.cpython-38-darwin.so\n  Reason: tried: '/Users/jonathanflores/anaconda3/envs/learn-env/lib/libopenblas.dylib' (no such file), '/Users/jonathanflores/anaconda3/envs/learn-env/lib/libopenblas.dylib' (no such file), '/Users/jonathanflores/anaconda3/envs/learn-env/lib/libopenblas.dylib' (no such file), '/Users/jonathanflores/anaconda3/envs/learn-env/lib/python3.8/site-packages/numpy/core/../../../../libopenblas.dylib' (no such file), '/Users/jonathanflores/anaconda3/envs/learn-env/lib/libopenblas.dylib' (no such file), '/Users/jonathanflores/anaconda3/envs/learn-env/lib/libopenblas.dylib' (no such file), '/Users/jonathanflores/anaconda3/envs/learn-env/lib/libopenblas.dylib' (no such file), '/Users/jonathanflores/anaconda3/envs/learn-env/lib/python3.8/site-packages/numpy/core/../../../../libopenblas.dylib' (no such file), '/Users/jonathanflores/anaconda3/envs/learn-env/lib/libopenblas.dylib' (no such file), '/Users/jonathanflores/anaconda3/envs/learn-env/lib/libopenblas.dylib' (no such file), '/Users/jonathanflores/anaconda3/envs/learn-env/bin/../lib/libopenblas.dylib' (no such file), '/Users/jonathanflores/anaconda3/envs/learn-env/lib/libopenblas.dylib' (no such file), '/Users/jonathanflores/anaconda3/envs/learn-env/lib/libopenblas.dylib' (no such file), '/Users/jonathanflores/anaconda3/envs/learn-env/bin/../lib/libopenblas.dylib' (no such file), '/usr/local/lib/libopenblas.dylib' (no such file), '/usr/lib/libopenblas.dylib' (no such file)\n",
     "output_type": "error",
     "traceback": [
      "\u001b[0;31m---------------------------------------------------------------------------\u001b[0m",
      "\u001b[0;31mImportError\u001b[0m                               Traceback (most recent call last)",
      "\u001b[0;32m~/anaconda3/envs/learn-env/lib/python3.8/site-packages/numpy/core/__init__.py\u001b[0m in \u001b[0;36m<module>\u001b[0;34m\u001b[0m\n\u001b[1;32m     21\u001b[0m \u001b[0;32mtry\u001b[0m\u001b[0;34m:\u001b[0m\u001b[0;34m\u001b[0m\u001b[0;34m\u001b[0m\u001b[0m\n\u001b[0;32m---> 22\u001b[0;31m     \u001b[0;32mfrom\u001b[0m \u001b[0;34m.\u001b[0m \u001b[0;32mimport\u001b[0m \u001b[0mmultiarray\u001b[0m\u001b[0;34m\u001b[0m\u001b[0;34m\u001b[0m\u001b[0m\n\u001b[0m\u001b[1;32m     23\u001b[0m \u001b[0;32mexcept\u001b[0m \u001b[0mImportError\u001b[0m \u001b[0;32mas\u001b[0m \u001b[0mexc\u001b[0m\u001b[0;34m:\u001b[0m\u001b[0;34m\u001b[0m\u001b[0;34m\u001b[0m\u001b[0m\n",
      "\u001b[0;32m~/anaconda3/envs/learn-env/lib/python3.8/site-packages/numpy/core/multiarray.py\u001b[0m in \u001b[0;36m<module>\u001b[0;34m\u001b[0m\n\u001b[1;32m     11\u001b[0m \u001b[0;34m\u001b[0m\u001b[0m\n\u001b[0;32m---> 12\u001b[0;31m \u001b[0;32mfrom\u001b[0m \u001b[0;34m.\u001b[0m \u001b[0;32mimport\u001b[0m \u001b[0moverrides\u001b[0m\u001b[0;34m\u001b[0m\u001b[0;34m\u001b[0m\u001b[0m\n\u001b[0m\u001b[1;32m     13\u001b[0m \u001b[0;32mfrom\u001b[0m \u001b[0;34m.\u001b[0m \u001b[0;32mimport\u001b[0m \u001b[0m_multiarray_umath\u001b[0m\u001b[0;34m\u001b[0m\u001b[0;34m\u001b[0m\u001b[0m\n",
      "\u001b[0;32m~/anaconda3/envs/learn-env/lib/python3.8/site-packages/numpy/core/overrides.py\u001b[0m in \u001b[0;36m<module>\u001b[0;34m\u001b[0m\n\u001b[1;32m      6\u001b[0m \u001b[0;34m\u001b[0m\u001b[0m\n\u001b[0;32m----> 7\u001b[0;31m from numpy.core._multiarray_umath import (\n\u001b[0m\u001b[1;32m      8\u001b[0m     add_docstring, implement_array_function, _get_implementing_args)\n",
      "\u001b[0;31mImportError\u001b[0m: dlopen(/Users/jonathanflores/anaconda3/envs/learn-env/lib/python3.8/site-packages/numpy/core/_multiarray_umath.cpython-38-darwin.so, 0x0002): Library not loaded: @rpath/libopenblas.dylib\n  Referenced from: /Users/jonathanflores/anaconda3/envs/learn-env/lib/python3.8/site-packages/numpy/core/_multiarray_umath.cpython-38-darwin.so\n  Reason: tried: '/Users/jonathanflores/anaconda3/envs/learn-env/lib/libopenblas.dylib' (no such file), '/Users/jonathanflores/anaconda3/envs/learn-env/lib/libopenblas.dylib' (no such file), '/Users/jonathanflores/anaconda3/envs/learn-env/lib/libopenblas.dylib' (no such file), '/Users/jonathanflores/anaconda3/envs/learn-env/lib/python3.8/site-packages/numpy/core/../../../../libopenblas.dylib' (no such file), '/Users/jonathanflores/anaconda3/envs/learn-env/lib/libopenblas.dylib' (no such file), '/Users/jonathanflores/anaconda3/envs/learn-env/lib/libopenblas.dylib' (no such file), '/Users/jonathanflores/anaconda3/envs/learn-env/lib/libopenblas.dylib' (no such file), '/Users/jonathanflores/anaconda3/envs/learn-env/lib/python3.8/site-packages/numpy/core/../../../../libopenblas.dylib' (no such file), '/Users/jonathanflores/anaconda3/envs/learn-env/lib/libopenblas.dylib' (no such file), '/Users/jonathanflores/anaconda3/envs/learn-env/lib/libopenblas.dylib' (no such file), '/Users/jonathanflores/anaconda3/envs/learn-env/bin/../lib/libopenblas.dylib' (no such file), '/Users/jonathanflores/anaconda3/envs/learn-env/lib/libopenblas.dylib' (no such file), '/Users/jonathanflores/anaconda3/envs/learn-env/lib/libopenblas.dylib' (no such file), '/Users/jonathanflores/anaconda3/envs/learn-env/bin/../lib/libopenblas.dylib' (no such file), '/usr/local/lib/libopenblas.dylib' (no such file), '/usr/lib/libopenblas.dylib' (no such file)",
      "\nDuring handling of the above exception, another exception occurred:\n",
      "\u001b[0;31mImportError\u001b[0m                               Traceback (most recent call last)",
      "\u001b[0;32m<ipython-input-4-99460773d8e3>\u001b[0m in \u001b[0;36m<module>\u001b[0;34m\u001b[0m\n\u001b[0;32m----> 1\u001b[0;31m \u001b[0;32mimport\u001b[0m \u001b[0mmatplotlib\u001b[0m\u001b[0;34m.\u001b[0m\u001b[0mpyplot\u001b[0m \u001b[0;32mas\u001b[0m \u001b[0mplt\u001b[0m\u001b[0;34m\u001b[0m\u001b[0;34m\u001b[0m\u001b[0m\n\u001b[0m\u001b[1;32m      2\u001b[0m \u001b[0;34m\u001b[0m\u001b[0m\n\u001b[1;32m      3\u001b[0m \u001b[0mplt\u001b[0m\u001b[0;34m.\u001b[0m\u001b[0mplot\u001b[0m\u001b[0;34m(\u001b[0m\u001b[0mX\u001b[0m\u001b[0;34m,\u001b[0m \u001b[0mY\u001b[0m\u001b[0;34m)\u001b[0m\u001b[0;34m\u001b[0m\u001b[0;34m\u001b[0m\u001b[0m\n\u001b[1;32m      4\u001b[0m \u001b[0mplt\u001b[0m\u001b[0;34m.\u001b[0m\u001b[0mylabel\u001b[0m\u001b[0;34m(\u001b[0m\u001b[0;34m'Absorption'\u001b[0m\u001b[0;34m)\u001b[0m\u001b[0;34m\u001b[0m\u001b[0;34m\u001b[0m\u001b[0m\n\u001b[1;32m      5\u001b[0m \u001b[0mplt\u001b[0m\u001b[0;34m.\u001b[0m\u001b[0mtitle\u001b[0m\u001b[0;34m(\u001b[0m\u001b[0;34m'Raman shift'\u001b[0m\u001b[0;34m)\u001b[0m\u001b[0;34m\u001b[0m\u001b[0;34m\u001b[0m\u001b[0m\n",
      "\u001b[0;32m~/anaconda3/envs/learn-env/lib/python3.8/site-packages/matplotlib/__init__.py\u001b[0m in \u001b[0;36m<module>\u001b[0;34m\u001b[0m\n\u001b[1;32m    105\u001b[0m \u001b[0;31m# cbook must import matplotlib only within function\u001b[0m\u001b[0;34m\u001b[0m\u001b[0;34m\u001b[0m\u001b[0;34m\u001b[0m\u001b[0m\n\u001b[1;32m    106\u001b[0m \u001b[0;31m# definitions, so it is safe to import from it here.\u001b[0m\u001b[0;34m\u001b[0m\u001b[0;34m\u001b[0m\u001b[0;34m\u001b[0m\u001b[0m\n\u001b[0;32m--> 107\u001b[0;31m \u001b[0;32mfrom\u001b[0m \u001b[0;34m.\u001b[0m \u001b[0;32mimport\u001b[0m \u001b[0mcbook\u001b[0m\u001b[0;34m,\u001b[0m \u001b[0mrcsetup\u001b[0m\u001b[0;34m\u001b[0m\u001b[0;34m\u001b[0m\u001b[0m\n\u001b[0m\u001b[1;32m    108\u001b[0m \u001b[0;32mfrom\u001b[0m \u001b[0mmatplotlib\u001b[0m\u001b[0;34m.\u001b[0m\u001b[0mcbook\u001b[0m \u001b[0;32mimport\u001b[0m \u001b[0mMatplotlibDeprecationWarning\u001b[0m\u001b[0;34m,\u001b[0m \u001b[0msanitize_sequence\u001b[0m\u001b[0;34m\u001b[0m\u001b[0;34m\u001b[0m\u001b[0m\n\u001b[1;32m    109\u001b[0m \u001b[0;32mfrom\u001b[0m \u001b[0mmatplotlib\u001b[0m\u001b[0;34m.\u001b[0m\u001b[0mcbook\u001b[0m \u001b[0;32mimport\u001b[0m \u001b[0mmplDeprecation\u001b[0m  \u001b[0;31m# deprecated\u001b[0m\u001b[0;34m\u001b[0m\u001b[0;34m\u001b[0m\u001b[0m\n",
      "\u001b[0;32m~/anaconda3/envs/learn-env/lib/python3.8/site-packages/matplotlib/cbook/__init__.py\u001b[0m in \u001b[0;36m<module>\u001b[0;34m\u001b[0m\n\u001b[1;32m     26\u001b[0m \u001b[0;32mimport\u001b[0m \u001b[0mweakref\u001b[0m\u001b[0;34m\u001b[0m\u001b[0;34m\u001b[0m\u001b[0m\n\u001b[1;32m     27\u001b[0m \u001b[0;34m\u001b[0m\u001b[0m\n\u001b[0;32m---> 28\u001b[0;31m \u001b[0;32mimport\u001b[0m \u001b[0mnumpy\u001b[0m \u001b[0;32mas\u001b[0m \u001b[0mnp\u001b[0m\u001b[0;34m\u001b[0m\u001b[0;34m\u001b[0m\u001b[0m\n\u001b[0m\u001b[1;32m     29\u001b[0m \u001b[0;34m\u001b[0m\u001b[0m\n\u001b[1;32m     30\u001b[0m \u001b[0;32mimport\u001b[0m \u001b[0mmatplotlib\u001b[0m\u001b[0;34m\u001b[0m\u001b[0;34m\u001b[0m\u001b[0m\n",
      "\u001b[0;32m~/anaconda3/envs/learn-env/lib/python3.8/site-packages/numpy/__init__.py\u001b[0m in \u001b[0;36m<module>\u001b[0;34m\u001b[0m\n\u001b[1;32m    138\u001b[0m     \u001b[0;32mfrom\u001b[0m \u001b[0;34m.\u001b[0m \u001b[0;32mimport\u001b[0m \u001b[0m_distributor_init\u001b[0m\u001b[0;34m\u001b[0m\u001b[0;34m\u001b[0m\u001b[0m\n\u001b[1;32m    139\u001b[0m \u001b[0;34m\u001b[0m\u001b[0m\n\u001b[0;32m--> 140\u001b[0;31m     \u001b[0;32mfrom\u001b[0m \u001b[0;34m.\u001b[0m \u001b[0;32mimport\u001b[0m \u001b[0mcore\u001b[0m\u001b[0;34m\u001b[0m\u001b[0;34m\u001b[0m\u001b[0m\n\u001b[0m\u001b[1;32m    141\u001b[0m     \u001b[0;32mfrom\u001b[0m \u001b[0;34m.\u001b[0m\u001b[0mcore\u001b[0m \u001b[0;32mimport\u001b[0m \u001b[0;34m*\u001b[0m\u001b[0;34m\u001b[0m\u001b[0;34m\u001b[0m\u001b[0m\n\u001b[1;32m    142\u001b[0m     \u001b[0;32mfrom\u001b[0m \u001b[0;34m.\u001b[0m \u001b[0;32mimport\u001b[0m \u001b[0mcompat\u001b[0m\u001b[0;34m\u001b[0m\u001b[0;34m\u001b[0m\u001b[0m\n",
      "\u001b[0;32m~/anaconda3/envs/learn-env/lib/python3.8/site-packages/numpy/core/__init__.py\u001b[0m in \u001b[0;36m<module>\u001b[0;34m\u001b[0m\n\u001b[1;32m     46\u001b[0m \"\"\" % (sys.version_info[0], sys.version_info[1], sys.executable,\n\u001b[1;32m     47\u001b[0m         __version__, exc)\n\u001b[0;32m---> 48\u001b[0;31m     \u001b[0;32mraise\u001b[0m \u001b[0mImportError\u001b[0m\u001b[0;34m(\u001b[0m\u001b[0mmsg\u001b[0m\u001b[0;34m)\u001b[0m\u001b[0;34m\u001b[0m\u001b[0;34m\u001b[0m\u001b[0m\n\u001b[0m\u001b[1;32m     49\u001b[0m \u001b[0;32mfinally\u001b[0m\u001b[0;34m:\u001b[0m\u001b[0;34m\u001b[0m\u001b[0;34m\u001b[0m\u001b[0m\n\u001b[1;32m     50\u001b[0m     \u001b[0;32mfor\u001b[0m \u001b[0menvkey\u001b[0m \u001b[0;32min\u001b[0m \u001b[0menv_added\u001b[0m\u001b[0;34m:\u001b[0m\u001b[0;34m\u001b[0m\u001b[0;34m\u001b[0m\u001b[0m\n",
      "\u001b[0;31mImportError\u001b[0m: \n\nIMPORTANT: PLEASE READ THIS FOR ADVICE ON HOW TO SOLVE THIS ISSUE!\n\nImporting the numpy C-extensions failed. This error can happen for\nmany reasons, often due to issues with your setup or how NumPy was\ninstalled.\n\nWe have compiled some common reasons and troubleshooting tips at:\n\n    https://numpy.org/devdocs/user/troubleshooting-importerror.html\n\nPlease note and check the following:\n\n  * The Python version is: Python3.8 from \"/Users/jonathanflores/anaconda3/envs/learn-env/bin/python\"\n  * The NumPy version is: \"1.19.1\"\n\nand make sure that they are the versions you expect.\nPlease carefully study the documentation linked above for further help.\n\nOriginal error was: dlopen(/Users/jonathanflores/anaconda3/envs/learn-env/lib/python3.8/site-packages/numpy/core/_multiarray_umath.cpython-38-darwin.so, 0x0002): Library not loaded: @rpath/libopenblas.dylib\n  Referenced from: /Users/jonathanflores/anaconda3/envs/learn-env/lib/python3.8/site-packages/numpy/core/_multiarray_umath.cpython-38-darwin.so\n  Reason: tried: '/Users/jonathanflores/anaconda3/envs/learn-env/lib/libopenblas.dylib' (no such file), '/Users/jonathanflores/anaconda3/envs/learn-env/lib/libopenblas.dylib' (no such file), '/Users/jonathanflores/anaconda3/envs/learn-env/lib/libopenblas.dylib' (no such file), '/Users/jonathanflores/anaconda3/envs/learn-env/lib/python3.8/site-packages/numpy/core/../../../../libopenblas.dylib' (no such file), '/Users/jonathanflores/anaconda3/envs/learn-env/lib/libopenblas.dylib' (no such file), '/Users/jonathanflores/anaconda3/envs/learn-env/lib/libopenblas.dylib' (no such file), '/Users/jonathanflores/anaconda3/envs/learn-env/lib/libopenblas.dylib' (no such file), '/Users/jonathanflores/anaconda3/envs/learn-env/lib/python3.8/site-packages/numpy/core/../../../../libopenblas.dylib' (no such file), '/Users/jonathanflores/anaconda3/envs/learn-env/lib/libopenblas.dylib' (no such file), '/Users/jonathanflores/anaconda3/envs/learn-env/lib/libopenblas.dylib' (no such file), '/Users/jonathanflores/anaconda3/envs/learn-env/bin/../lib/libopenblas.dylib' (no such file), '/Users/jonathanflores/anaconda3/envs/learn-env/lib/libopenblas.dylib' (no such file), '/Users/jonathanflores/anaconda3/envs/learn-env/lib/libopenblas.dylib' (no such file), '/Users/jonathanflores/anaconda3/envs/learn-env/bin/../lib/libopenblas.dylib' (no such file), '/usr/local/lib/libopenblas.dylib' (no such file), '/usr/lib/libopenblas.dylib' (no such file)\n"
     ]
    }
   ],
   "source": [
    "import matplotlib.pyplot as plt\n",
    "\n",
    "plt.plot(X, Y)\n",
    "plt.ylabel('Absorption')\n",
    "plt.title('Raman shift')\n",
    "plt.xlabel('Wavelength shift')\n",
    "plt.show()"
   ]
  },
  {
   "cell_type": "markdown",
   "metadata": {
    "cell_style": "center",
    "slideshow": {
     "slide_type": "slide"
    }
   },
   "source": [
    "#### plt.subplots()\n",
    "\n",
    "- Can make single or multiple plots:\n",
    "    - Multiple plotting:\n",
    "        - Different types of plots\n",
    "        - Grid formation\n",
    "- Flexibility in styling/legend customization"
   ]
  },
  {
   "cell_type": "markdown",
   "metadata": {
    "cell_style": "split",
    "slideshow": {
     "slide_type": "slide"
    }
   },
   "source": [
    "#### How subplots works:\n",
    "\n",
    "plt.subplots() -- generates a Figure and Axes framework for you. \n",
    "\n",
    "fig, ax = plt.subplots()\n",
    "\n"
   ]
  },
  {
   "cell_type": "markdown",
   "metadata": {
    "cell_style": "split",
    "slideshow": {
     "slide_type": "fragment"
    }
   },
   "source": [
    "- fig is a Figure object.\n",
    "- ax is an an Axes object (or an array of Axes objects)\n",
    "    - .plot() method creates the plot for the Axes object."
   ]
  },
  {
   "cell_type": "markdown",
   "metadata": {
    "slideshow": {
     "slide_type": "slide"
    }
   },
   "source": [
    "Let's see subplots in action for a single plot:"
   ]
  },
  {
   "cell_type": "code",
   "execution_count": null,
   "metadata": {
    "cell_style": "center",
    "slideshow": {
     "slide_type": "fragment"
    }
   },
   "outputs": [],
   "source": [
    "# import the pyplot from matplotlib and numpy\n",
    "import matplotlib.pyplot as plt\n",
    "import numpy as np"
   ]
  },
  {
   "cell_type": "markdown",
   "metadata": {},
   "source": [
    "Now, let's load in a fun dataset."
   ]
  },
  {
   "cell_type": "markdown",
   "metadata": {
    "slideshow": {
     "slide_type": "slide"
    }
   },
   "source": [
    "#### Identifying prokaryotes using Raman spectroscopy.\n",
    "<br>\n",
    "<br>\n",
    " <div align>\n",
    "    <center><img src=\"Images/prokaryote.jpg\" align = \"center\" width = 350 /></center>\n",
    "</div>\n",
    "<br>\n",
    "- Measures wavelength shift of laser light due to vibrational absorption of molecules:\n",
    "\n",
    "**Plotting:**\n",
    "\n",
    "Normalized counts at a given wavelength shift"
   ]
  },
  {
   "cell_type": "markdown",
   "metadata": {
    "slideshow": {
     "slide_type": "slide"
    }
   },
   "source": [
    "Load in spectrum data (a little annoying in base python):"
   ]
  },
  {
   "cell_type": "code",
   "execution_count": null,
   "metadata": {
    "slideshow": {
     "slide_type": "subslide"
    }
   },
   "outputs": [],
   "source": [
    "import csv\n",
    "\n",
    "# we are just going to extract one spectrum. don't worry too much about these processing details.\n",
    "\n",
    "# in the end we will have Raman intensity (Y) vs Raman shift in inverse wavelength (X):\n",
    "\n",
    "with open('Data/raman_spectroscopy.csv') as f:\n",
    "    read_obj = csv.reader(f, delimiter = ',')\n",
    "    \n",
    "    # extract X-axis (inverse wavelength)\n",
    "    col_names = next(read_obj)[1::]\n",
    "    inverse_wavelength = [float(k.strip('cm-1')) for k in col_names]\n",
    "    first_spectrum = [float(x) for x in next(read_obj)[1::]]\n",
    "    \n",
    "    spectrum_tupled = sorted(zip(inverse_wavelength, first_spectrum))[200::]\n",
    "    X, Y = list(zip(*spectrum_tupled))"
   ]
  },
  {
   "cell_type": "code",
   "execution_count": null,
   "metadata": {
    "slideshow": {
     "slide_type": "subslide"
    }
   },
   "outputs": [],
   "source": [
    "print('X (inverse_wavelength): ' + str(X[:20]) + '...')\n",
    "print('Y (intensity): ' + str(Y[:20]) + '...')"
   ]
  },
  {
   "cell_type": "markdown",
   "metadata": {
    "cell_style": "split",
    "slideshow": {
     "slide_type": "slide"
    }
   },
   "source": [
    "Want lineplot of Y vs. X:\n",
    "\n",
    "- Spectra: example of data with continuity.\n",
    "- Values are highly correlated with preceding and following values.\n",
    "- Other examples? \n",
    "    - Time series."
   ]
  },
  {
   "cell_type": "markdown",
   "metadata": {
    "cell_style": "split",
    "slideshow": {
     "slide_type": "fragment"
    }
   },
   "source": [
    "Let's do this with subplots!"
   ]
  },
  {
   "cell_type": "code",
   "execution_count": null,
   "metadata": {
    "slideshow": {
     "slide_type": "slide"
    }
   },
   "outputs": [],
   "source": [
    "fig, ax = plt.subplots(figsize=(7,4))\n",
    "\n",
    "#by default, line plot. First argument is X list/array.\n",
    "# Second argument is Y list/array.\n",
    "ax.plot(X, Y) \n",
    "\n",
    "plt.tight_layout()\n",
    "plt.show()"
   ]
  },
  {
   "cell_type": "markdown",
   "metadata": {
    "slideshow": {
     "slide_type": "fragment"
    }
   },
   "source": [
    "What's the problem with this plot?"
   ]
  },
  {
   "cell_type": "markdown",
   "metadata": {
    "slideshow": {
     "slide_type": "slide"
    }
   },
   "source": [
    "#### Setting axis labels, title:\n",
    "\n",
    "More ax object methods:\n",
    "- .set_xlabel()\n",
    "- .set_ylabel()\n",
    "- .set_title()\n"
   ]
  },
  {
   "cell_type": "code",
   "execution_count": null,
   "metadata": {
    "slideshow": {
     "slide_type": "slide"
    }
   },
   "outputs": [],
   "source": [
    "fig, ax = plt.subplots(figsize=(7,4))\n",
    "\n",
    "ax.plot(X, Y) \n",
    "\n",
    "# set axis labels and title\n",
    "ax.set_xlabel('Raman shift [cm$^{-1}$]')\n",
    "ax.set_ylabel('Normalized intensity [a.u.]')\n",
    "ax.set_title('Raman Absorption Spectrum: Prokaryote')\n",
    "\n",
    "plt.tight_layout()\n",
    "plt.show()"
   ]
  },
  {
   "cell_type": "markdown",
   "metadata": {
    "slideshow": {
     "slide_type": "slide"
    }
   },
   "source": [
    "#### Basic styling on our plot:\n",
    "\n",
    "Many styling attributes embedded in:\n",
    "- .plot()\n",
    "- .set_xlabel()\n",
    "- .set_ylabel()\n",
    "- .set_title()"
   ]
  },
  {
   "cell_type": "code",
   "execution_count": null,
   "metadata": {
    "scrolled": true,
    "slideshow": {
     "slide_type": "slide"
    }
   },
   "outputs": [],
   "source": [
    "fig, ax = plt.subplots(figsize=(7,4))\n",
    "\n",
    "ax.plot(X, Y, c ='green', linewidth = 2, linestyle = '--') # change color and line width\n",
    "\n",
    "ax.set_xlabel('Raman shift [cm$^{-1}$]', fontfamily = 'Arial', fontsize = 15)\n",
    "ax.set_ylabel('Normalized intensity [a.u.]', fontfamily = 'Arial', fontsize = 15)\n",
    "ax.set_title('Raman Absorption Spectrum: Prokaryote', fontfamily = 'Arial', fontsize = 18 )\n",
    "\n",
    "plt.tight_layout()\n",
    "plt.show()"
   ]
  },
  {
   "cell_type": "markdown",
   "metadata": {
    "cell_style": "center",
    "slideshow": {
     "slide_type": "slide"
    }
   },
   "source": [
    "What about those ticks?\n",
    "\n",
    "Yup, ax objects have methods for these:\n",
    "\n",
    "Can pass in ticks locations and turn on minor ticks\n",
    "- .set_xticks()\n",
    "- .set_yticks()"
   ]
  },
  {
   "cell_type": "code",
   "execution_count": null,
   "metadata": {
    "cell_style": "center",
    "slideshow": {
     "slide_type": "slide"
    }
   },
   "outputs": [],
   "source": [
    "%%capture out \n",
    "\n",
    "fig, ax = plt.subplots(figsize=(7,4))\n",
    "ax.plot(X, Y, c ='r', linewidth = 0.5)\n",
    "ax.set_xlabel('Raman shift [cm$^{-1}$]', fontsize = 14)\n",
    "ax.set_ylabel('Normalized intensity [a.u.]', fontsize = 14)\n",
    "ax.set_title('Raman Absorption Spectrum: Prokaryote', fontsize = 18 )\n",
    "\n",
    "# ax set_ticks tick placement\n",
    "ax.set_xticks(range(300,1050,50), minor = True)\n",
    "ax.set_yticks(np.arange(0,1.1,0.1), minor = True)\n",
    "\n",
    "plt.show()"
   ]
  },
  {
   "cell_type": "code",
   "execution_count": null,
   "metadata": {
    "cell_style": "center",
    "slideshow": {
     "slide_type": "slide"
    }
   },
   "outputs": [],
   "source": [
    "out.show()"
   ]
  },
  {
   "cell_type": "markdown",
   "metadata": {
    "cell_style": "split",
    "slideshow": {
     "slide_type": "fragment"
    }
   },
   "source": [
    "Tick options on axes objects (options for tick labels also):\n",
    "\n",
    "- ax.tick_params()"
   ]
  },
  {
   "cell_type": "code",
   "execution_count": null,
   "metadata": {
    "slideshow": {
     "slide_type": "slide"
    }
   },
   "outputs": [],
   "source": [
    "%%capture out_ticks_styled \n",
    "\n",
    "fig, ax = plt.subplots(figsize=(7,4))\n",
    "ax.plot(X, Y, c ='r', linewidth = 1)\n",
    "ax.set_xlabel('Raman shift [cm$^{-1}$]', fontsize = 14)\n",
    "ax.set_ylabel('Normalized intensity [a.u.]', fontsize = 14)\n",
    "ax.set_title('Raman Absorption Spectrum: Prokaryote', fontsize = 13 )\n",
    "ax.set_xticks(range(300,1050,50), minor = True)\n",
    "ax.set_yticks(np.arange(0,1.1,0.1), minor = True)\n",
    "\n",
    "# set tick styling: ticks on all sides, facing in.\n",
    "#change major and minor tick lengths.\n",
    "ax.tick_params(bottom = True, top = True, left = True, right = True, \n",
    "               labelsize = 13, which='major', direction = 'in', length = 7)\n",
    "ax.tick_params(bottom = True, top = True, left = True, right = True, \n",
    "               which='minor', direction = 'in', length = 4)\n",
    "\n",
    "plt.show()"
   ]
  },
  {
   "cell_type": "code",
   "execution_count": null,
   "metadata": {
    "cell_style": "split",
    "slideshow": {
     "slide_type": "slide"
    }
   },
   "outputs": [],
   "source": [
    "out_ticks_styled.show() # after"
   ]
  },
  {
   "cell_type": "code",
   "execution_count": null,
   "metadata": {
    "cell_style": "split",
    "slideshow": {
     "slide_type": "fragment"
    }
   },
   "outputs": [],
   "source": [
    "out.show() # before"
   ]
  },
  {
   "cell_type": "markdown",
   "metadata": {
    "slideshow": {
     "slide_type": "slide"
    }
   },
   "source": [
    "Labeling ticks:\n",
    "\n",
    "ax.set_xticklabels() and ax.set_yticklabels()\n",
    "\n",
    "- Takes in list of labels for each tick\n",
    "- Styling options"
   ]
  },
  {
   "cell_type": "code",
   "execution_count": null,
   "metadata": {
    "slideshow": {
     "slide_type": "subslide"
    }
   },
   "outputs": [],
   "source": [
    "%%capture outticklabels\n",
    "\n",
    "fig, ax = plt.subplots(figsize=(7,4))\n",
    "#by default, line plot. First argument is X list/array.\n",
    "# Second argument is Y list/array.\n",
    "ax.plot(X, Y, c ='r', linewidth = 0.5)\n",
    "ax.set_xlabel('Raman shift [cm$^{-1}$]', fontsize = 14)\n",
    "ax.set_ylabel('Normalized intensity [a.u.]', fontsize = 14)\n",
    "ax.set_title('Raman Absorption Spectrum: Prokaryote', fontsize = 13 )\n",
    "ax.set_xticks(range(300,1050,100))\n",
    "ax.set_yticks(np.arange(0,1.1,0.1))\n",
    "\n",
    "# ax set_ticks in action: manually relabeling to scientific notation\n",
    "ax.set_xticklabels([ str(int(x)) + '.0E2' for x in range(3, 11, 1)], fontsize = 12)\n",
    "ax.set_yticklabels([ str(int(x)) + 'E-1' for x in np.arange(0,11,1) ], fontsize = 12)\n",
    "\n",
    "\n",
    "plt.show()"
   ]
  },
  {
   "cell_type": "code",
   "execution_count": null,
   "metadata": {
    "slideshow": {
     "slide_type": "subslide"
    }
   },
   "outputs": [],
   "source": [
    "outticklabels.show() # ticks manually labeled"
   ]
  },
  {
   "cell_type": "markdown",
   "metadata": {
    "cell_style": "split",
    "slideshow": {
     "slide_type": "slide"
    }
   },
   "source": [
    "#### Some other plot types for axes objects:\n",
    "- Scatter plots.\n",
    "- Histograms.\n",
    "- Bar plots.\n",
    "- Box plots."
   ]
  },
  {
   "cell_type": "markdown",
   "metadata": {
    "cell_style": "split",
    "slideshow": {
     "slide_type": "fragment"
    }
   },
   "source": [
    "#### Syntax in matplotlib:\n",
    "- ax.scatter()\n",
    "- ax.hist()\n",
    "- ax.bar()\n",
    "- ax.boxplot()"
   ]
  },
  {
   "cell_type": "markdown",
   "metadata": {
    "slideshow": {
     "slide_type": "slide"
    }
   },
   "source": [
    "Let's see some of these methods in action on a dataset about penguins:\n",
    "- Body mass\n",
    "- Flipper length"
   ]
  },
  {
   "cell_type": "code",
   "execution_count": null,
   "metadata": {
    "slideshow": {
     "slide_type": "fragment"
    }
   },
   "outputs": [],
   "source": [
    "penguin_dict = {}\n",
    "with open('Data/penguins.csv') as f:\n",
    "    masslist = []\n",
    "    lflipper = []\n",
    "    species = []\n",
    "    reader = csv.DictReader(f)\n",
    "    for row in reader:\n",
    "        masslist.append(int(row['Body Mass (g)']))\n",
    "        lflipper.append(int(row['Flipper Length (mm)']))\n",
    "        species.append(row['Species'])\n",
    "    penguin_dict['Body Mass (g)'] = masslist\n",
    "    penguin_dict['Flipper Length (mm)'] = lflipper\n",
    "    penguin_dict['Species'] = species"
   ]
  },
  {
   "cell_type": "markdown",
   "metadata": {
    "slideshow": {
     "slide_type": "slide"
    }
   },
   "source": [
    "Scatter plots are good for visualizing relationships between two continuous numerical attributes:"
   ]
  },
  {
   "cell_type": "code",
   "execution_count": null,
   "metadata": {
    "scrolled": false,
    "slideshow": {
     "slide_type": "fragment"
    }
   },
   "outputs": [],
   "source": [
    "fig, ax = plt.subplots()\n",
    "ax.scatter(penguin_dict['Body Mass (g)'], penguin_dict['Flipper Length (mm)'] , marker = 's', s = 120, alpha = .5, c = 'g')\n",
    "ax.set_xlabel('Body Mass (g)')\n",
    "ax.set_ylabel('Flipper Length (mm)' )\n",
    "ax.set_title('Penguins: Flipper to Mass Relation')\n",
    "plt.show()"
   ]
  },
  {
   "cell_type": "markdown",
   "metadata": {
    "slideshow": {
     "slide_type": "slide"
    }
   },
   "source": [
    "Histograms can be useful for inspecting how a numerical attribute is distributed:"
   ]
  },
  {
   "cell_type": "code",
   "execution_count": null,
   "metadata": {
    "slideshow": {
     "slide_type": "fragment"
    }
   },
   "outputs": [],
   "source": [
    "fig, ax = plt.subplots()\n",
    "\n",
    "ax.hist(penguin_dict['Body Mass (g)'], bins = 15, color = 'green')\n",
    "\n",
    "ax.set_xlabel('Body Mass (g)')\n",
    "ax.set_ylabel('Count Frequency' )\n",
    "ax.set_title('Penguin Mass Distribution')\n",
    "plt.show()"
   ]
  },
  {
   "cell_type": "markdown",
   "metadata": {
    "slideshow": {
     "slide_type": "slide"
    }
   },
   "source": [
    "What if we want to visualize the sub-distributions of the Adelie and Gentoo penguin masses on top of each other?"
   ]
  },
  {
   "cell_type": "code",
   "execution_count": null,
   "metadata": {
    "slideshow": {
     "slide_type": "fragment"
    }
   },
   "outputs": [],
   "source": [
    "# this code gets the masses for the Adelie and Gentoo penguin subpopulations respectively.\n",
    "\n",
    "adelie_selector = [i for i,x in enumerate(penguin_dict['Species']) if x == 'Adelie Penguin (Pygoscelis adeliae)' ]\n",
    "adelie_masses = [penguin_dict['Body Mass (g)'][i] for i in adelie_selector]\n",
    "\n",
    "gentoo_selector = [i for i,x in enumerate(penguin_dict['Species']) if x == 'Gentoo penguin (Pygoscelis papua)' ]\n",
    "gentoo_masses = [penguin_dict['Body Mass (g)'][i] for i in gentoo_selector]"
   ]
  },
  {
   "cell_type": "markdown",
   "metadata": {
    "slideshow": {
     "slide_type": "slide"
    }
   },
   "source": [
    "A single ax object can be updated with multiple plots:\n",
    "\n",
    "- ax objects save state: \n",
    "    - a single call to a plot function loads ax object with a plot\n",
    "- plot is saved within ax object\n",
    "- another call to a plot function on same ax object:\n",
    "    - overlays new plot on top of old plot in same ax object."
   ]
  },
  {
   "cell_type": "code",
   "execution_count": null,
   "metadata": {
    "scrolled": true,
    "slideshow": {
     "slide_type": "subslide"
    }
   },
   "outputs": [],
   "source": [
    "fig, ax = plt.subplots()\n",
    "\n",
    "ax.hist(gentoo_masses, bins = 10, histtype = 'step', color = 'green')\n",
    "ax.hist(adelie_masses, bins = 10, histtype = 'step', color = 'blue')\n",
    "\n",
    "ax.set_xlabel('Body Mass (g)')\n",
    "ax.set_ylabel('Count Frequency' )\n",
    "ax.set_title('Penguin Mass Distribution')\n",
    "\n",
    "\n",
    "plt.show()"
   ]
  },
  {
   "cell_type": "markdown",
   "metadata": {
    "cell_style": "split",
    "slideshow": {
     "slide_type": "slide"
    }
   },
   "source": [
    "That's cool:\n",
    "- But some legends might be nice. "
   ]
  },
  {
   "cell_type": "markdown",
   "metadata": {
    "cell_style": "split",
    "slideshow": {
     "slide_type": "fragment"
    }
   },
   "source": [
    "#### Legends\n",
    "\n",
    "ax.legend(labels, loc = __)\n",
    "\n",
    ".plot() functions have label argument for legends, etc."
   ]
  },
  {
   "cell_type": "code",
   "execution_count": null,
   "metadata": {
    "cell_style": "center",
    "slideshow": {
     "slide_type": "subslide"
    }
   },
   "outputs": [],
   "source": [
    "fig, ax = plt.subplots()\n",
    "\n",
    "ax.hist(gentoo_masses, bins = 10, histtype = 'step', color = 'green', label = 'Gentoo')\n",
    "ax.hist(adelie_masses, bins = 10, histtype = 'step', color = 'blue', label = 'Adelie')\n",
    "\n",
    "ax.set_xlabel('Body Mass (g)')\n",
    "ax.set_ylabel('Count Frequency' )\n",
    "ax.set_title('Penguin Mass Distribution')\n",
    "# auto-fills in legend labels by referencing ax plot labels\n",
    "ax.legend(loc = 'upper right')\n",
    "\n",
    "plt.show()"
   ]
  },
  {
   "cell_type": "code",
   "execution_count": null,
   "metadata": {
    "slideshow": {
     "slide_type": "subslide"
    }
   },
   "outputs": [],
   "source": [
    "fig, ax = plt.subplots()\n",
    "\n",
    "ax.hist(gentoo_masses, bins = 10, histtype = 'step', color = 'green', label = 'Gentoo')\n",
    "ax.hist(adelie_masses, bins = 10, histtype = 'step', color = 'blue', label = 'Adelie')\n",
    "\n",
    "ax.set_xlabel('Body Mass (g)')\n",
    "ax.set_ylabel('Count Frequency' )\n",
    "ax.set_title('Penguin Mass Distribution')\n",
    "\n",
    "# can override/manually enter labels for each plot\n",
    "ax.legend(['Big Guy', 'Little Guy'],loc = 'upper right')\n",
    "\n",
    "plt.show()"
   ]
  },
  {
   "cell_type": "markdown",
   "metadata": {
    "slideshow": {
     "slide_type": "slide"
    }
   },
   "source": [
    "Bar plots:\n",
    "- Bar plots are self explanatory.\n",
    "- But: let's do a bar plot on counts of unique entries in a categorical attribute.\n",
    "- Known as a count plot.\n",
    "\n",
    "First, let's get counts of the unique species of penguins in our dataset:"
   ]
  },
  {
   "cell_type": "code",
   "execution_count": null,
   "metadata": {},
   "outputs": [],
   "source": [
    "# collections is a really REALLY useful base python package.\n",
    "# Counter objects have a few nifty methods.\n",
    "from collections import Counter\n",
    "\n",
    "species_counter = Counter(penguin_dict['Species'])\n",
    "print(species_counter)"
   ]
  },
  {
   "cell_type": "markdown",
   "metadata": {
    "slideshow": {
     "slide_type": "subslide"
    }
   },
   "source": [
    "Prepare x and y for barplot:"
   ]
  },
  {
   "cell_type": "code",
   "execution_count": null,
   "metadata": {
    "slideshow": {
     "slide_type": "fragment"
    }
   },
   "outputs": [],
   "source": [
    "species_name = [name.split()[0] for name in species_counter.keys()]\n",
    "species_count = species_counter.values()"
   ]
  },
  {
   "cell_type": "markdown",
   "metadata": {
    "slideshow": {
     "slide_type": "slide"
    }
   },
   "source": [
    "Make the bar plot:\n",
    "- ax.bar(category_labels, count_values)"
   ]
  },
  {
   "cell_type": "code",
   "execution_count": null,
   "metadata": {
    "scrolled": true,
    "slideshow": {
     "slide_type": "fragment"
    }
   },
   "outputs": [],
   "source": [
    "fig, ax = plt.subplots(figsize=(4,4))\n",
    "\n",
    "# sets up bar plot\n",
    "ax.bar(species_name, species_count, color = 'g')\n",
    "ax.set_ylabel('Count')\n",
    "ax.set_title('Sample count: penguin species')\n",
    "plt.tight_layout()\n",
    "plt.show()"
   ]
  },
  {
   "cell_type": "markdown",
   "metadata": {
    "cell_style": "split",
    "slideshow": {
     "slide_type": "slide"
    }
   },
   "source": [
    "#### Subplot grid\n",
    "\n",
    "- We often want to plot multiple graphs together.\n",
    "- matplotlib supports these graphs in single Figure as a grid.\n",
    "\n",
    "fig, axs = plt.subplots(nrows = 2, ncols = 2)"
   ]
  },
  {
   "cell_type": "markdown",
   "metadata": {
    "cell_style": "split",
    "slideshow": {
     "slide_type": "fragment"
    }
   },
   "source": [
    "- axs is a 2D addressable array.\n",
    "- Each element of axs is an ax object\n",
    "- axs[0,0]: top left plot.\n",
    "- axs[1,1]: bottom right plot."
   ]
  },
  {
   "cell_type": "markdown",
   "metadata": {
    "slideshow": {
     "slide_type": "slide"
    }
   },
   "source": [
    "Let's create a 2x2 grid of some penguin data:\n",
    "- scatter plot of flipper length vs mass\n",
    "- distribution of flipper length\n",
    "- distribution of mass\n",
    "- count for penguin species"
   ]
  },
  {
   "cell_type": "code",
   "execution_count": null,
   "metadata": {
    "cell_style": "center",
    "slideshow": {
     "slide_type": "subslide"
    }
   },
   "outputs": [],
   "source": [
    "%%capture multiple_subplots\n",
    "\n",
    "\n",
    "fig, axs = plt.subplots(2,2, figsize=(10,8))\n",
    "\n",
    "axs[0,0].scatter(penguin_dict['Body Mass (g)'],penguin_dict['Flipper Length (mm)'], \n",
    "                 marker = 'v', s = 60, alpha = 0.6, c = 'b')\n",
    "axs[0,0].set_xlabel('Body Mass [g]')\n",
    "axs[0,0].set_ylabel('Flipper length [mm]')\n",
    "\n",
    "axs[0,1].hist(penguin_dict['Body Mass (g)'], bins = 30, histtype='bar', color = 'green')\n",
    "axs[0,1].set_xlabel('Body Mass [g]')\n",
    "axs[0,1].set_ylabel('Count')\n",
    "\n",
    "axs[1,0].bar(species_name, species_count)\n",
    "axs[1,0].set_ylabel('Count')\n",
    "\n",
    "axs[1,1].hist(penguin_dict['Flipper Length (mm)'] , bins = 30, histtype='bar', color = 'green')\n",
    "axs[1,1].set_xlabel('Body Mass [g]')\n",
    "axs[1,1].set_ylabel('Count')\n",
    "\n",
    "plt.tight_layout()\n",
    "\n",
    "plt.show()"
   ]
  },
  {
   "cell_type": "code",
   "execution_count": null,
   "metadata": {
    "slideshow": {
     "slide_type": "subslide"
    }
   },
   "outputs": [],
   "source": [
    "multiple_subplots.show()"
   ]
  },
  {
   "cell_type": "markdown",
   "metadata": {
    "slideshow": {
     "slide_type": "slide"
    }
   },
   "source": [
    "There are various styling methods for sharing axis labels, etc:\n",
    "    \n",
    "- see matplotlib documentation for the plethora of options on subplots."
   ]
  },
  {
   "cell_type": "markdown",
   "metadata": {
    "slideshow": {
     "slide_type": "slide"
    }
   },
   "source": [
    "#### Additional useful pyplot styling commands"
   ]
  },
  {
   "cell_type": "markdown",
   "metadata": {
    "slideshow": {
     "slide_type": "fragment"
    }
   },
   "source": [
    "#### Making vertical/horizontal lines \n",
    "\n",
    "- .axvline(x = ) \n",
    "- .axhline(y = )"
   ]
  },
  {
   "cell_type": "code",
   "execution_count": null,
   "metadata": {
    "slideshow": {
     "slide_type": "subslide"
    }
   },
   "outputs": [],
   "source": [
    "%%capture vhlined\n",
    "\n",
    "fig, ax = plt.subplots(figsize=(7,4))\n",
    "ax.plot(X, Y, c ='r', linewidth = 0.5)\n",
    "ax.set_xlabel('Raman shift [cm$^{-1}$]', fontsize = 14)\n",
    "ax.set_ylabel('Normalized intensity [a.u.]', fontsize = 14)\n",
    "ax.set_title('Raman Absorption Spectrum: Prokaryote', fontsize = 13 )\n",
    "ax.set_xticks(range(300,1050,50), minor = True)\n",
    "ax.set_yticks(np.arange(0,1.1,0.1), minor = True)\n",
    "ax.tick_params(bottom = True, top = True, left = True, right = True, \n",
    "               labelsize = 13, which='major', direction = 'in', length = 7)\n",
    "ax.tick_params(bottom = True, top = True, left = True, right = True, \n",
    "               which='minor', direction = 'in', length = 4)\n",
    "\n",
    "# make a vertical line: max peak raman shift location\n",
    "ax.axvline(x =760, c ='b', linewidth = 2, linestyle = '--')\n",
    "\n",
    "plt.show()"
   ]
  },
  {
   "cell_type": "code",
   "execution_count": null,
   "metadata": {
    "slideshow": {
     "slide_type": "subslide"
    }
   },
   "outputs": [],
   "source": [
    "vhlined.show()"
   ]
  },
  {
   "cell_type": "markdown",
   "metadata": {
    "slideshow": {
     "slide_type": "slide"
    }
   },
   "source": [
    "#### Annotation\n",
    "Put text in a plot:\n",
    "- ax.annotate(text, xy_coords, xytextccords)"
   ]
  },
  {
   "cell_type": "code",
   "execution_count": 1,
   "metadata": {
    "slideshow": {
     "slide_type": "subslide"
    }
   },
   "outputs": [
    {
     "ename": "NameError",
     "evalue": "name 'plt' is not defined",
     "output_type": "error",
     "traceback": [
      "\u001b[0;31m---------------------------------------------------------------------------\u001b[0m",
      "\u001b[0;31mNameError\u001b[0m                                 Traceback (most recent call last)",
      "\u001b[0;32m<ipython-input-1-0a957f887b00>\u001b[0m in \u001b[0;36m<module>\u001b[0;34m\u001b[0m\n\u001b[0;32m----> 1\u001b[0;31m \u001b[0mfig\u001b[0m\u001b[0;34m,\u001b[0m \u001b[0max\u001b[0m \u001b[0;34m=\u001b[0m \u001b[0mplt\u001b[0m\u001b[0;34m.\u001b[0m\u001b[0msubplots\u001b[0m\u001b[0;34m(\u001b[0m\u001b[0mfigsize\u001b[0m\u001b[0;34m=\u001b[0m\u001b[0;34m(\u001b[0m\u001b[0;36m7\u001b[0m\u001b[0;34m,\u001b[0m\u001b[0;36m4\u001b[0m\u001b[0;34m)\u001b[0m\u001b[0;34m)\u001b[0m\u001b[0;34m\u001b[0m\u001b[0;34m\u001b[0m\u001b[0m\n\u001b[0m\u001b[1;32m      2\u001b[0m \u001b[0max\u001b[0m\u001b[0;34m.\u001b[0m\u001b[0mplot\u001b[0m\u001b[0;34m(\u001b[0m\u001b[0mX\u001b[0m\u001b[0;34m,\u001b[0m \u001b[0mY\u001b[0m\u001b[0;34m,\u001b[0m \u001b[0mc\u001b[0m \u001b[0;34m=\u001b[0m\u001b[0;34m'r'\u001b[0m\u001b[0;34m,\u001b[0m \u001b[0mlinewidth\u001b[0m \u001b[0;34m=\u001b[0m \u001b[0;36m0.5\u001b[0m\u001b[0;34m)\u001b[0m\u001b[0;34m\u001b[0m\u001b[0;34m\u001b[0m\u001b[0m\n\u001b[1;32m      3\u001b[0m \u001b[0max\u001b[0m\u001b[0;34m.\u001b[0m\u001b[0mset_xlabel\u001b[0m\u001b[0;34m(\u001b[0m\u001b[0;34m'Raman shift [cm$^{-1}$]'\u001b[0m\u001b[0;34m,\u001b[0m \u001b[0mfontsize\u001b[0m \u001b[0;34m=\u001b[0m \u001b[0;36m14\u001b[0m\u001b[0;34m)\u001b[0m\u001b[0;34m\u001b[0m\u001b[0;34m\u001b[0m\u001b[0m\n\u001b[1;32m      4\u001b[0m \u001b[0max\u001b[0m\u001b[0;34m.\u001b[0m\u001b[0mset_ylabel\u001b[0m\u001b[0;34m(\u001b[0m\u001b[0;34m'Normalized intensity [a.u.]'\u001b[0m\u001b[0;34m,\u001b[0m \u001b[0mfontsize\u001b[0m \u001b[0;34m=\u001b[0m \u001b[0;36m14\u001b[0m\u001b[0;34m)\u001b[0m\u001b[0;34m\u001b[0m\u001b[0;34m\u001b[0m\u001b[0m\n\u001b[1;32m      5\u001b[0m \u001b[0max\u001b[0m\u001b[0;34m.\u001b[0m\u001b[0mset_title\u001b[0m\u001b[0;34m(\u001b[0m\u001b[0;34m'Raman Absorption Spectrum: Prokaryote'\u001b[0m\u001b[0;34m,\u001b[0m \u001b[0mfontsize\u001b[0m \u001b[0;34m=\u001b[0m \u001b[0;36m13\u001b[0m \u001b[0;34m)\u001b[0m\u001b[0;34m\u001b[0m\u001b[0;34m\u001b[0m\u001b[0m\n",
      "\u001b[0;31mNameError\u001b[0m: name 'plt' is not defined"
     ]
    }
   ],
   "source": [
    "%%capture annot\n",
    "\n",
    "fig, ax = plt.subplots(figsize=(7,4))\n",
    "ax.plot(X, Y, c ='r', linewidth = 0.5)\n",
    "ax.set_xlabel('Raman shift [cm$^{-1}$]', fontsize = 14)\n",
    "ax.set_ylabel('Normalized intensity [a.u.]', fontsize = 14)\n",
    "ax.set_title('Raman Absorption Spectrum: Prokaryote', fontsize = 13 )\n",
    "ax.set_xticks(range(300,1050,50), minor = True)\n",
    "ax.set_yticks(np.arange(0,1.1,0.1), minor = True)\n",
    "ax.tick_params(bottom = True, top = True, left = True, right = True, \n",
    "               labelsize = 13, which='major', direction = 'in', length = 7)\n",
    "ax.tick_params(bottom = True, top = True, left = True, right = True, \n",
    "               which='minor', direction = 'in', length = 4)\n",
    "ax.axvline(x =760, c ='b', linewidth = 2, linestyle = '--')\n",
    "\n",
    "# annotate peak location\n",
    "ax.annotate('Peak 1', xy = [750,.9], xytext = [580,.95], fontsize = 12,  arrowprops={\"arrowstyle\":\"->\", \"color\":\"blue\"}, c = 'b')\n",
    "\n",
    "plt.show()"
   ]
  },
  {
   "cell_type": "code",
   "execution_count": null,
   "metadata": {
    "slideshow": {
     "slide_type": "subslide"
    }
   },
   "outputs": [],
   "source": [
    "annot.show()"
   ]
  },
  {
   "cell_type": "markdown",
   "metadata": {
    "slideshow": {
     "slide_type": "slide"
    }
   },
   "source": [
    "#### Summary \n",
    "- Tip of iceberg \n",
    "- Will cover later in course: boxplots, ecdfs, etc.\n",
    "- Higher level visualization packages built off matplotlib:\n",
    "    - Pandas plotting\n",
    "    - Seaborn\n",
    "    - Plotly\n",
    "    - Bokeh, ..."
   ]
  }
 ],
 "metadata": {
  "celltoolbar": "Slideshow",
  "kernelspec": {
   "display_name": "Python 3",
   "language": "python",
   "name": "python3"
  },
  "language_info": {
   "codemirror_mode": {
    "name": "ipython",
    "version": 3
   },
   "file_extension": ".py",
   "mimetype": "text/x-python",
   "name": "python",
   "nbconvert_exporter": "python",
   "pygments_lexer": "ipython3",
   "version": "3.8.5"
  }
 },
 "nbformat": 4,
 "nbformat_minor": 5
}
