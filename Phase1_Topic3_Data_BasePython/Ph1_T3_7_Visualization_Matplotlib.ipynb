{
 "cells": [
  {
   "cell_type": "markdown",
   "metadata": {
    "cell_style": "center",
    "slideshow": {
     "slide_type": "slide"
    }
   },
   "source": [
    "<div style=\"color:white;\n",
    "           display:fill;\n",
    "           border-radius:5px;\n",
    "           background-color:#5642C5;\n",
    "           font-size:200%;\n",
    "           font-family:Arial;letter-spacing:0.5px\">\n",
    "\n",
    "<p width = 20%, style=\"padding: 10px;\n",
    "              color:white;\">\n",
    "Python: Visualizing your data with Matplotlib\n",
    "              \n",
    "</p>\n",
    "</div>\n",
    "\n",
    "Data Science Cohort Live NYC Feb 2022\n",
    "<p>Phase 1: Topic 3</p>\n",
    "<br>\n",
    "<br>\n",
    "\n",
    "<div align = \"right\">\n",
    "<img src=\"Images/flatiron-school-logo.png\" align = \"right\" width=\"200\"/>\n",
    "</div>\n",
    "    \n",
    "    "
   ]
  },
  {
   "cell_type": "markdown",
   "metadata": {
    "cell_style": "center",
    "slideshow": {
     "slide_type": "slide"
    }
   },
   "source": [
    "#### Visualization\n",
    "\n",
    "Conveys information to yourself or others! \n",
    "\n",
    "- Should allow one to see structure in data clearly:\n",
    "    - Structure = trends, comparisons, groupings, signature features.\n",
    "<br>\n",
    "<br>\n",
    "- Choosing the right plot:\n",
    "    - What type of structure are you trying to represent?\n",
    "    \n"
   ]
  },
  {
   "cell_type": "markdown",
   "metadata": {
    "cell_style": "center",
    "slideshow": {
     "slide_type": "slide"
    }
   },
   "source": [
    "- Purpose:\n",
    "    - What are you trying to show?\n",
    "    - Quantitative? \n",
    "    - Qualitative?\n",
    "\n",
    "\n",
    "\n",
    "    \n"
   ]
  },
  {
   "cell_type": "markdown",
   "metadata": {
    "slideshow": {
     "slide_type": "subslide"
    }
   },
   "source": [
    "- Informative:\n",
    "    - Structure apparent upon a glance.\n",
    "    - Scales should be appropriate and apparent. \n",
    "    - Quantitative: numbers can be read off."
   ]
  },
  {
   "cell_type": "markdown",
   "metadata": {
    "slideshow": {
     "slide_type": "subslide"
    }
   },
   "source": [
    "- Clear:\n",
    "    - Not too much info/clutter!\n",
    "    - Legibility and labeling.\n",
    "    - Color, size, shape: use contrast to convey information."
   ]
  },
  {
   "cell_type": "markdown",
   "metadata": {
    "cell_style": "center",
    "slideshow": {
     "slide_type": "slide"
    }
   },
   "source": [
    "What's wrong with this? \n",
    "<br>\n",
    "<br>\n",
    " <div align>\n",
    "    <center><img src=\"Images/CDC.png\" align = \"center\" /></center>\n",
    "</div>"
   ]
  },
  {
   "cell_type": "markdown",
   "metadata": {
    "cell_style": "split",
    "slideshow": {
     "slide_type": "slide"
    }
   },
   "source": [
    "What's wrong with this? \n",
    "<br>\n",
    "<br>\n",
    " <div align>\n",
    "    <center><img src=\"Images/yscalebad.png\" align = \"center\" width = 600/></center>\n",
    "</div>"
   ]
  },
  {
   "cell_type": "markdown",
   "metadata": {
    "cell_style": "split",
    "slideshow": {
     "slide_type": "fragment"
    }
   },
   "source": [
    "The true scale.\n",
    "\n",
    " <div align>\n",
    "    <center><img src=\"Images/yscalegood.png\" align = \"center\" width = 600/></center>\n",
    "</div>\n",
    "\n",
    "Was difference meaningful? Error bar? \n",
    "- If meaningful, want to highlight **difference**."
   ]
  },
  {
   "cell_type": "markdown",
   "metadata": {
    "slideshow": {
     "slide_type": "slide"
    }
   },
   "source": [
    "Stacked bar charts:\n",
    "\n",
    "<br>\n",
    "<br>\n",
    " <div align>\n",
    "    <center><img src=\"Images/diagnoses.jpg\" align = \"center\" width = 600/></center>\n",
    "</div>\n",
    "\n",
    "What is the purpose of this plot?"
   ]
  },
  {
   "cell_type": "markdown",
   "metadata": {
    "slideshow": {
     "slide_type": "slide"
    }
   },
   "source": [
    "Eye is good at judging linear measures and bad at judging relative areas -- particularly ones related to angles.\n",
    " <div align>\n",
    "    <center><img src=\"Images/piechart.png\" align = \"center\" width = 400/></center>\n",
    "</div>\n",
    "Sometimes ask yourself whether a table will serve you better."
   ]
  },
  {
   "cell_type": "markdown",
   "metadata": {
    "slideshow": {
     "slide_type": "slide"
    }
   },
   "source": [
    "Oh hell no...\n",
    "<br>\n",
    "<br>\n",
    " <div align>\n",
    "    <center><img src=\"Images/kanye.jpeg\" align = \"center\" width = 500 /></center>\n",
    "</div>\n",
    "\n"
   ]
  },
  {
   "cell_type": "markdown",
   "metadata": {
    "slideshow": {
     "slide_type": "slide"
    }
   },
   "source": [
    "Plot comparison (not great vs. good):"
   ]
  },
  {
   "cell_type": "markdown",
   "metadata": {
    "cell_style": "split",
    "slideshow": {
     "slide_type": "fragment"
    }
   },
   "source": [
    " <div align>\n",
    "    <center><img src=\"Images/handlength_bar.png\" align = \"center\" width = 600 /></center>\n",
    "</div>"
   ]
  },
  {
   "cell_type": "markdown",
   "metadata": {
    "cell_style": "split",
    "slideshow": {
     "slide_type": "fragment"
    }
   },
   "source": [
    " <div align>\n",
    "    <center><img src=\"Images/handlength_scatter.png\" align = \"center\" width = 600 /></center>\n",
    "</div>"
   ]
  },
  {
   "cell_type": "markdown",
   "metadata": {
    "slideshow": {
     "slide_type": "slide"
    }
   },
   "source": [
    "An excellent resource on how to do things right:"
   ]
  },
  {
   "cell_type": "markdown",
   "metadata": {
    "slideshow": {
     "slide_type": "fragment"
    }
   },
   "source": [
    " <div align>\n",
    "    <center><img src=\"Images/tuftee.jpg\" align = \"center\" width = 400 /></center>\n",
    "</div>"
   ]
  },
  {
   "cell_type": "markdown",
   "metadata": {
    "cell_style": "split",
    "slideshow": {
     "slide_type": "slide"
    }
   },
   "source": [
    "With above considerations of visualization in mind:\n",
    "\n",
    "#### Matplotlib: the mother of all Python visualization \n",
    "\n",
    "- Can do pretty much anything regarding visualization in Python.\n",
    "- Focus on tip of iceberg: basic plotting functions.\n",
    "    - pyplot\n",
    "    "
   ]
  },
  {
   "cell_type": "markdown",
   "metadata": {
    "cell_style": "split",
    "slideshow": {
     "slide_type": "fragment"
    }
   },
   "source": [
    "<div align>\n",
    "    <center><img src=\"Images/mpl_logo.png\" align = \"center\" /></center>\n",
    "</div>"
   ]
  },
  {
   "cell_type": "markdown",
   "metadata": {
    "cell_style": "split",
    "slideshow": {
     "slide_type": "slide"
    }
   },
   "source": [
    "<img src=\"Images/matplotlib_anatomy.png\" width = 600>"
   ]
  },
  {
   "cell_type": "markdown",
   "metadata": {
    "cell_style": "split",
    "slideshow": {
     "slide_type": "fragment"
    }
   },
   "source": [
    "__Figure__ - This is the \"sheet of paper\" all of your graphing sits on. \n",
    "\n",
    "__Axis__ - An axis is an individual plot. You can have multiple axes on one figure\n",
    "\n",
    "__Major/Minor Ticks__ - The large and small dashes on the x and y axis\n",
    "\n",
    "__Markers__ - In a scatter plot each of the points is refered to as a marker\n",
    "\n",
    "__Spines__ - The lines that bound each axis"
   ]
  },
  {
   "cell_type": "markdown",
   "metadata": {
    "cell_style": "center",
    "slideshow": {
     "slide_type": "slide"
    }
   },
   "source": [
    "#### Pyplot frameworks\n",
    "\n",
    "- Many different ways to create plots:\n",
    "    - plt.plot() framework: really easy, but not flexible.\n",
    "    - plt.subplots() methods: balance of flexibility/abstraction and ease.\n"
   ]
  },
  {
   "cell_type": "code",
   "execution_count": 4,
<<<<<<< HEAD
   "metadata": {},
   "outputs": [
    {
     "ename": "ImportError",
     "evalue": "\n\nIMPORTANT: PLEASE READ THIS FOR ADVICE ON HOW TO SOLVE THIS ISSUE!\n\nImporting the numpy C-extensions failed. This error can happen for\nmany reasons, often due to issues with your setup or how NumPy was\ninstalled.\n\nWe have compiled some common reasons and troubleshooting tips at:\n\n    https://numpy.org/devdocs/user/troubleshooting-importerror.html\n\nPlease note and check the following:\n\n  * The Python version is: Python3.8 from \"/Users/jonathanflores/anaconda3/envs/learn-env/bin/python\"\n  * The NumPy version is: \"1.19.1\"\n\nand make sure that they are the versions you expect.\nPlease carefully study the documentation linked above for further help.\n\nOriginal error was: dlopen(/Users/jonathanflores/anaconda3/envs/learn-env/lib/python3.8/site-packages/numpy/core/_multiarray_umath.cpython-38-darwin.so, 0x0002): Library not loaded: @rpath/libopenblas.dylib\n  Referenced from: /Users/jonathanflores/anaconda3/envs/learn-env/lib/python3.8/site-packages/numpy/core/_multiarray_umath.cpython-38-darwin.so\n  Reason: tried: '/Users/jonathanflores/anaconda3/envs/learn-env/lib/libopenblas.dylib' (no such file), '/Users/jonathanflores/anaconda3/envs/learn-env/lib/libopenblas.dylib' (no such file), '/Users/jonathanflores/anaconda3/envs/learn-env/lib/libopenblas.dylib' (no such file), '/Users/jonathanflores/anaconda3/envs/learn-env/lib/python3.8/site-packages/numpy/core/../../../../libopenblas.dylib' (no such file), '/Users/jonathanflores/anaconda3/envs/learn-env/lib/libopenblas.dylib' (no such file), '/Users/jonathanflores/anaconda3/envs/learn-env/lib/libopenblas.dylib' (no such file), '/Users/jonathanflores/anaconda3/envs/learn-env/lib/libopenblas.dylib' (no such file), '/Users/jonathanflores/anaconda3/envs/learn-env/lib/python3.8/site-packages/numpy/core/../../../../libopenblas.dylib' (no such file), '/Users/jonathanflores/anaconda3/envs/learn-env/lib/libopenblas.dylib' (no such file), '/Users/jonathanflores/anaconda3/envs/learn-env/lib/libopenblas.dylib' (no such file), '/Users/jonathanflores/anaconda3/envs/learn-env/bin/../lib/libopenblas.dylib' (no such file), '/Users/jonathanflores/anaconda3/envs/learn-env/lib/libopenblas.dylib' (no such file), '/Users/jonathanflores/anaconda3/envs/learn-env/lib/libopenblas.dylib' (no such file), '/Users/jonathanflores/anaconda3/envs/learn-env/bin/../lib/libopenblas.dylib' (no such file), '/usr/local/lib/libopenblas.dylib' (no such file), '/usr/lib/libopenblas.dylib' (no such file)\n",
     "output_type": "error",
     "traceback": [
      "\u001b[0;31m---------------------------------------------------------------------------\u001b[0m",
      "\u001b[0;31mImportError\u001b[0m                               Traceback (most recent call last)",
      "\u001b[0;32m~/anaconda3/envs/learn-env/lib/python3.8/site-packages/numpy/core/__init__.py\u001b[0m in \u001b[0;36m<module>\u001b[0;34m\u001b[0m\n\u001b[1;32m     21\u001b[0m \u001b[0;32mtry\u001b[0m\u001b[0;34m:\u001b[0m\u001b[0;34m\u001b[0m\u001b[0;34m\u001b[0m\u001b[0m\n\u001b[0;32m---> 22\u001b[0;31m     \u001b[0;32mfrom\u001b[0m \u001b[0;34m.\u001b[0m \u001b[0;32mimport\u001b[0m \u001b[0mmultiarray\u001b[0m\u001b[0;34m\u001b[0m\u001b[0;34m\u001b[0m\u001b[0m\n\u001b[0m\u001b[1;32m     23\u001b[0m \u001b[0;32mexcept\u001b[0m \u001b[0mImportError\u001b[0m \u001b[0;32mas\u001b[0m \u001b[0mexc\u001b[0m\u001b[0;34m:\u001b[0m\u001b[0;34m\u001b[0m\u001b[0;34m\u001b[0m\u001b[0m\n",
      "\u001b[0;32m~/anaconda3/envs/learn-env/lib/python3.8/site-packages/numpy/core/multiarray.py\u001b[0m in \u001b[0;36m<module>\u001b[0;34m\u001b[0m\n\u001b[1;32m     11\u001b[0m \u001b[0;34m\u001b[0m\u001b[0m\n\u001b[0;32m---> 12\u001b[0;31m \u001b[0;32mfrom\u001b[0m \u001b[0;34m.\u001b[0m \u001b[0;32mimport\u001b[0m \u001b[0moverrides\u001b[0m\u001b[0;34m\u001b[0m\u001b[0;34m\u001b[0m\u001b[0m\n\u001b[0m\u001b[1;32m     13\u001b[0m \u001b[0;32mfrom\u001b[0m \u001b[0;34m.\u001b[0m \u001b[0;32mimport\u001b[0m \u001b[0m_multiarray_umath\u001b[0m\u001b[0;34m\u001b[0m\u001b[0;34m\u001b[0m\u001b[0m\n",
      "\u001b[0;32m~/anaconda3/envs/learn-env/lib/python3.8/site-packages/numpy/core/overrides.py\u001b[0m in \u001b[0;36m<module>\u001b[0;34m\u001b[0m\n\u001b[1;32m      6\u001b[0m \u001b[0;34m\u001b[0m\u001b[0m\n\u001b[0;32m----> 7\u001b[0;31m from numpy.core._multiarray_umath import (\n\u001b[0m\u001b[1;32m      8\u001b[0m     add_docstring, implement_array_function, _get_implementing_args)\n",
      "\u001b[0;31mImportError\u001b[0m: dlopen(/Users/jonathanflores/anaconda3/envs/learn-env/lib/python3.8/site-packages/numpy/core/_multiarray_umath.cpython-38-darwin.so, 0x0002): Library not loaded: @rpath/libopenblas.dylib\n  Referenced from: /Users/jonathanflores/anaconda3/envs/learn-env/lib/python3.8/site-packages/numpy/core/_multiarray_umath.cpython-38-darwin.so\n  Reason: tried: '/Users/jonathanflores/anaconda3/envs/learn-env/lib/libopenblas.dylib' (no such file), '/Users/jonathanflores/anaconda3/envs/learn-env/lib/libopenblas.dylib' (no such file), '/Users/jonathanflores/anaconda3/envs/learn-env/lib/libopenblas.dylib' (no such file), '/Users/jonathanflores/anaconda3/envs/learn-env/lib/python3.8/site-packages/numpy/core/../../../../libopenblas.dylib' (no such file), '/Users/jonathanflores/anaconda3/envs/learn-env/lib/libopenblas.dylib' (no such file), '/Users/jonathanflores/anaconda3/envs/learn-env/lib/libopenblas.dylib' (no such file), '/Users/jonathanflores/anaconda3/envs/learn-env/lib/libopenblas.dylib' (no such file), '/Users/jonathanflores/anaconda3/envs/learn-env/lib/python3.8/site-packages/numpy/core/../../../../libopenblas.dylib' (no such file), '/Users/jonathanflores/anaconda3/envs/learn-env/lib/libopenblas.dylib' (no such file), '/Users/jonathanflores/anaconda3/envs/learn-env/lib/libopenblas.dylib' (no such file), '/Users/jonathanflores/anaconda3/envs/learn-env/bin/../lib/libopenblas.dylib' (no such file), '/Users/jonathanflores/anaconda3/envs/learn-env/lib/libopenblas.dylib' (no such file), '/Users/jonathanflores/anaconda3/envs/learn-env/lib/libopenblas.dylib' (no such file), '/Users/jonathanflores/anaconda3/envs/learn-env/bin/../lib/libopenblas.dylib' (no such file), '/usr/local/lib/libopenblas.dylib' (no such file), '/usr/lib/libopenblas.dylib' (no such file)",
      "\nDuring handling of the above exception, another exception occurred:\n",
      "\u001b[0;31mImportError\u001b[0m                               Traceback (most recent call last)",
      "\u001b[0;32m<ipython-input-4-99460773d8e3>\u001b[0m in \u001b[0;36m<module>\u001b[0;34m\u001b[0m\n\u001b[0;32m----> 1\u001b[0;31m \u001b[0;32mimport\u001b[0m \u001b[0mmatplotlib\u001b[0m\u001b[0;34m.\u001b[0m\u001b[0mpyplot\u001b[0m \u001b[0;32mas\u001b[0m \u001b[0mplt\u001b[0m\u001b[0;34m\u001b[0m\u001b[0;34m\u001b[0m\u001b[0m\n\u001b[0m\u001b[1;32m      2\u001b[0m \u001b[0;34m\u001b[0m\u001b[0m\n\u001b[1;32m      3\u001b[0m \u001b[0mplt\u001b[0m\u001b[0;34m.\u001b[0m\u001b[0mplot\u001b[0m\u001b[0;34m(\u001b[0m\u001b[0mX\u001b[0m\u001b[0;34m,\u001b[0m \u001b[0mY\u001b[0m\u001b[0;34m)\u001b[0m\u001b[0;34m\u001b[0m\u001b[0;34m\u001b[0m\u001b[0m\n\u001b[1;32m      4\u001b[0m \u001b[0mplt\u001b[0m\u001b[0;34m.\u001b[0m\u001b[0mylabel\u001b[0m\u001b[0;34m(\u001b[0m\u001b[0;34m'Absorption'\u001b[0m\u001b[0;34m)\u001b[0m\u001b[0;34m\u001b[0m\u001b[0;34m\u001b[0m\u001b[0m\n\u001b[1;32m      5\u001b[0m \u001b[0mplt\u001b[0m\u001b[0;34m.\u001b[0m\u001b[0mtitle\u001b[0m\u001b[0;34m(\u001b[0m\u001b[0;34m'Raman shift'\u001b[0m\u001b[0;34m)\u001b[0m\u001b[0;34m\u001b[0m\u001b[0;34m\u001b[0m\u001b[0m\n",
      "\u001b[0;32m~/anaconda3/envs/learn-env/lib/python3.8/site-packages/matplotlib/__init__.py\u001b[0m in \u001b[0;36m<module>\u001b[0;34m\u001b[0m\n\u001b[1;32m    105\u001b[0m \u001b[0;31m# cbook must import matplotlib only within function\u001b[0m\u001b[0;34m\u001b[0m\u001b[0;34m\u001b[0m\u001b[0;34m\u001b[0m\u001b[0m\n\u001b[1;32m    106\u001b[0m \u001b[0;31m# definitions, so it is safe to import from it here.\u001b[0m\u001b[0;34m\u001b[0m\u001b[0;34m\u001b[0m\u001b[0;34m\u001b[0m\u001b[0m\n\u001b[0;32m--> 107\u001b[0;31m \u001b[0;32mfrom\u001b[0m \u001b[0;34m.\u001b[0m \u001b[0;32mimport\u001b[0m \u001b[0mcbook\u001b[0m\u001b[0;34m,\u001b[0m \u001b[0mrcsetup\u001b[0m\u001b[0;34m\u001b[0m\u001b[0;34m\u001b[0m\u001b[0m\n\u001b[0m\u001b[1;32m    108\u001b[0m \u001b[0;32mfrom\u001b[0m \u001b[0mmatplotlib\u001b[0m\u001b[0;34m.\u001b[0m\u001b[0mcbook\u001b[0m \u001b[0;32mimport\u001b[0m \u001b[0mMatplotlibDeprecationWarning\u001b[0m\u001b[0;34m,\u001b[0m \u001b[0msanitize_sequence\u001b[0m\u001b[0;34m\u001b[0m\u001b[0;34m\u001b[0m\u001b[0m\n\u001b[1;32m    109\u001b[0m \u001b[0;32mfrom\u001b[0m \u001b[0mmatplotlib\u001b[0m\u001b[0;34m.\u001b[0m\u001b[0mcbook\u001b[0m \u001b[0;32mimport\u001b[0m \u001b[0mmplDeprecation\u001b[0m  \u001b[0;31m# deprecated\u001b[0m\u001b[0;34m\u001b[0m\u001b[0;34m\u001b[0m\u001b[0m\n",
      "\u001b[0;32m~/anaconda3/envs/learn-env/lib/python3.8/site-packages/matplotlib/cbook/__init__.py\u001b[0m in \u001b[0;36m<module>\u001b[0;34m\u001b[0m\n\u001b[1;32m     26\u001b[0m \u001b[0;32mimport\u001b[0m \u001b[0mweakref\u001b[0m\u001b[0;34m\u001b[0m\u001b[0;34m\u001b[0m\u001b[0m\n\u001b[1;32m     27\u001b[0m \u001b[0;34m\u001b[0m\u001b[0m\n\u001b[0;32m---> 28\u001b[0;31m \u001b[0;32mimport\u001b[0m \u001b[0mnumpy\u001b[0m \u001b[0;32mas\u001b[0m \u001b[0mnp\u001b[0m\u001b[0;34m\u001b[0m\u001b[0;34m\u001b[0m\u001b[0m\n\u001b[0m\u001b[1;32m     29\u001b[0m \u001b[0;34m\u001b[0m\u001b[0m\n\u001b[1;32m     30\u001b[0m \u001b[0;32mimport\u001b[0m \u001b[0mmatplotlib\u001b[0m\u001b[0;34m\u001b[0m\u001b[0;34m\u001b[0m\u001b[0m\n",
      "\u001b[0;32m~/anaconda3/envs/learn-env/lib/python3.8/site-packages/numpy/__init__.py\u001b[0m in \u001b[0;36m<module>\u001b[0;34m\u001b[0m\n\u001b[1;32m    138\u001b[0m     \u001b[0;32mfrom\u001b[0m \u001b[0;34m.\u001b[0m \u001b[0;32mimport\u001b[0m \u001b[0m_distributor_init\u001b[0m\u001b[0;34m\u001b[0m\u001b[0;34m\u001b[0m\u001b[0m\n\u001b[1;32m    139\u001b[0m \u001b[0;34m\u001b[0m\u001b[0m\n\u001b[0;32m--> 140\u001b[0;31m     \u001b[0;32mfrom\u001b[0m \u001b[0;34m.\u001b[0m \u001b[0;32mimport\u001b[0m \u001b[0mcore\u001b[0m\u001b[0;34m\u001b[0m\u001b[0;34m\u001b[0m\u001b[0m\n\u001b[0m\u001b[1;32m    141\u001b[0m     \u001b[0;32mfrom\u001b[0m \u001b[0;34m.\u001b[0m\u001b[0mcore\u001b[0m \u001b[0;32mimport\u001b[0m \u001b[0;34m*\u001b[0m\u001b[0;34m\u001b[0m\u001b[0;34m\u001b[0m\u001b[0m\n\u001b[1;32m    142\u001b[0m     \u001b[0;32mfrom\u001b[0m \u001b[0;34m.\u001b[0m \u001b[0;32mimport\u001b[0m \u001b[0mcompat\u001b[0m\u001b[0;34m\u001b[0m\u001b[0;34m\u001b[0m\u001b[0m\n",
      "\u001b[0;32m~/anaconda3/envs/learn-env/lib/python3.8/site-packages/numpy/core/__init__.py\u001b[0m in \u001b[0;36m<module>\u001b[0;34m\u001b[0m\n\u001b[1;32m     46\u001b[0m \"\"\" % (sys.version_info[0], sys.version_info[1], sys.executable,\n\u001b[1;32m     47\u001b[0m         __version__, exc)\n\u001b[0;32m---> 48\u001b[0;31m     \u001b[0;32mraise\u001b[0m \u001b[0mImportError\u001b[0m\u001b[0;34m(\u001b[0m\u001b[0mmsg\u001b[0m\u001b[0;34m)\u001b[0m\u001b[0;34m\u001b[0m\u001b[0;34m\u001b[0m\u001b[0m\n\u001b[0m\u001b[1;32m     49\u001b[0m \u001b[0;32mfinally\u001b[0m\u001b[0;34m:\u001b[0m\u001b[0;34m\u001b[0m\u001b[0;34m\u001b[0m\u001b[0m\n\u001b[1;32m     50\u001b[0m     \u001b[0;32mfor\u001b[0m \u001b[0menvkey\u001b[0m \u001b[0;32min\u001b[0m \u001b[0menv_added\u001b[0m\u001b[0;34m:\u001b[0m\u001b[0;34m\u001b[0m\u001b[0;34m\u001b[0m\u001b[0m\n",
      "\u001b[0;31mImportError\u001b[0m: \n\nIMPORTANT: PLEASE READ THIS FOR ADVICE ON HOW TO SOLVE THIS ISSUE!\n\nImporting the numpy C-extensions failed. This error can happen for\nmany reasons, often due to issues with your setup or how NumPy was\ninstalled.\n\nWe have compiled some common reasons and troubleshooting tips at:\n\n    https://numpy.org/devdocs/user/troubleshooting-importerror.html\n\nPlease note and check the following:\n\n  * The Python version is: Python3.8 from \"/Users/jonathanflores/anaconda3/envs/learn-env/bin/python\"\n  * The NumPy version is: \"1.19.1\"\n\nand make sure that they are the versions you expect.\nPlease carefully study the documentation linked above for further help.\n\nOriginal error was: dlopen(/Users/jonathanflores/anaconda3/envs/learn-env/lib/python3.8/site-packages/numpy/core/_multiarray_umath.cpython-38-darwin.so, 0x0002): Library not loaded: @rpath/libopenblas.dylib\n  Referenced from: /Users/jonathanflores/anaconda3/envs/learn-env/lib/python3.8/site-packages/numpy/core/_multiarray_umath.cpython-38-darwin.so\n  Reason: tried: '/Users/jonathanflores/anaconda3/envs/learn-env/lib/libopenblas.dylib' (no such file), '/Users/jonathanflores/anaconda3/envs/learn-env/lib/libopenblas.dylib' (no such file), '/Users/jonathanflores/anaconda3/envs/learn-env/lib/libopenblas.dylib' (no such file), '/Users/jonathanflores/anaconda3/envs/learn-env/lib/python3.8/site-packages/numpy/core/../../../../libopenblas.dylib' (no such file), '/Users/jonathanflores/anaconda3/envs/learn-env/lib/libopenblas.dylib' (no such file), '/Users/jonathanflores/anaconda3/envs/learn-env/lib/libopenblas.dylib' (no such file), '/Users/jonathanflores/anaconda3/envs/learn-env/lib/libopenblas.dylib' (no such file), '/Users/jonathanflores/anaconda3/envs/learn-env/lib/python3.8/site-packages/numpy/core/../../../../libopenblas.dylib' (no such file), '/Users/jonathanflores/anaconda3/envs/learn-env/lib/libopenblas.dylib' (no such file), '/Users/jonathanflores/anaconda3/envs/learn-env/lib/libopenblas.dylib' (no such file), '/Users/jonathanflores/anaconda3/envs/learn-env/bin/../lib/libopenblas.dylib' (no such file), '/Users/jonathanflores/anaconda3/envs/learn-env/lib/libopenblas.dylib' (no such file), '/Users/jonathanflores/anaconda3/envs/learn-env/lib/libopenblas.dylib' (no such file), '/Users/jonathanflores/anaconda3/envs/learn-env/bin/../lib/libopenblas.dylib' (no such file), '/usr/local/lib/libopenblas.dylib' (no such file), '/usr/lib/libopenblas.dylib' (no such file)\n"
     ]
=======
   "id": "0800c3c5",
   "metadata": {
    "scrolled": true
   },
   "outputs": [
    {
     "data": {
      "image/png": "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\n",
      "text/plain": [
       "<Figure size 432x288 with 1 Axes>"
      ]
     },
     "metadata": {
      "needs_background": "light"
     },
     "output_type": "display_data"
>>>>>>> 1c511e066ce4eb61918c68b3f95c380e2ffb945f
    }
   ],
   "source": [
    "import matplotlib.pyplot as plt\n",
    "\n",
    "plt.plot(X, Y)\n",
    "plt.ylabel('Absorption')\n",
    "plt.title('Raman shift')\n",
    "plt.xlabel('Wavelength shift')\n",
    "plt.show()"
   ]
  },
  {
   "cell_type": "markdown",
   "metadata": {
    "cell_style": "center",
    "slideshow": {
     "slide_type": "slide"
    }
   },
   "source": [
    "#### plt.subplots()\n",
    "\n",
    "- Can make single or multiple plots:\n",
    "    - Multiple plotting:\n",
    "        - Different types of plots\n",
    "        - Grid formation\n",
    "- Flexibility in styling/legend customization"
   ]
  },
  {
   "cell_type": "markdown",
   "metadata": {
    "cell_style": "split",
    "slideshow": {
     "slide_type": "slide"
    }
   },
   "source": [
    "#### How subplots works:\n",
    "\n",
    "plt.subplots() -- generates a Figure and Axes framework for you. \n",
    "\n",
    "fig, ax = plt.subplots()\n",
    "\n"
   ]
  },
  {
   "cell_type": "markdown",
   "metadata": {
    "cell_style": "split",
    "slideshow": {
     "slide_type": "fragment"
    }
   },
   "source": [
    "- fig is a Figure object.\n",
    "- ax is an an Axes object (or an array of Axes objects)\n",
    "    - .plot() method creates the plot for the Axes object."
   ]
  },
  {
   "cell_type": "markdown",
   "metadata": {
    "slideshow": {
     "slide_type": "slide"
    }
   },
   "source": [
    "Let's see subplots in action for a single plot:"
   ]
  },
  {
   "cell_type": "code",
<<<<<<< HEAD
   "execution_count": null,
=======
   "execution_count": 5,
   "id": "c043006b",
>>>>>>> 1c511e066ce4eb61918c68b3f95c380e2ffb945f
   "metadata": {
    "cell_style": "center",
    "slideshow": {
     "slide_type": "fragment"
    }
   },
   "outputs": [],
   "source": [
    "# import the pyplot from matplotlib and numpy\n",
    "import matplotlib.pyplot as plt\n",
    "import numpy as np"
   ]
  },
  {
   "cell_type": "markdown",
   "metadata": {},
   "source": [
    "Now, let's load in a fun dataset."
   ]
  },
  {
   "cell_type": "markdown",
   "metadata": {
    "slideshow": {
     "slide_type": "slide"
    }
   },
   "source": [
    "#### Identifying prokaryotes using Raman spectroscopy.\n",
    "<br>\n",
    "<br>\n",
    " <div align>\n",
    "    <center><img src=\"Images/prokaryote.jpg\" align = \"center\" width = 350 /></center>\n",
    "</div>\n",
    "<br>\n",
    "- Measures wavelength shift of laser light due to vibrational absorption of molecules:\n",
    "\n",
    "**Plotting:**\n",
    "\n",
    "Normalized counts at a given wavelength shift"
   ]
  },
  {
   "cell_type": "markdown",
   "metadata": {
    "slideshow": {
     "slide_type": "slide"
    }
   },
   "source": [
    "Load in spectrum data (a little annoying in base python):"
   ]
  },
  {
   "cell_type": "code",
<<<<<<< HEAD
   "execution_count": null,
=======
   "execution_count": 6,
   "id": "e3a651a1",
>>>>>>> 1c511e066ce4eb61918c68b3f95c380e2ffb945f
   "metadata": {
    "slideshow": {
     "slide_type": "subslide"
    }
   },
   "outputs": [],
   "source": [
    "import csv\n",
    "\n",
    "# we are just going to extract one spectrum. don't worry too much about these processing details.\n",
    "\n",
    "# in the end we will have Raman intensity (Y) vs Raman shift in inverse wavelength (X):\n",
    "\n",
    "with open('Data/raman_spectroscopy.csv') as f:\n",
    "    read_obj = csv.reader(f, delimiter = ',')\n",
    "    \n",
    "    # extract X-axis (inverse wavelength)\n",
    "    col_names = next(read_obj)[1::]\n",
    "    inverse_wavelength = [float(k.strip('cm-1')) for k in col_names]\n",
    "    first_spectrum = [float(x) for x in next(read_obj)[1::]]\n",
    "    \n",
    "    spectrum_tupled = sorted(zip(inverse_wavelength, first_spectrum))[200::]\n",
    "    X, Y = list(zip(*spectrum_tupled))"
   ]
  },
  {
   "cell_type": "code",
   "execution_count": null,
   "metadata": {
    "slideshow": {
     "slide_type": "subslide"
    }
   },
   "outputs": [],
   "source": [
    "print('X (inverse_wavelength): ' + str(X[:20]) + '...')\n",
    "print('Y (intensity): ' + str(Y[:20]) + '...')"
   ]
  },
  {
   "cell_type": "markdown",
   "metadata": {
    "cell_style": "split",
    "slideshow": {
     "slide_type": "slide"
    }
   },
   "source": [
    "Want lineplot of Y vs. X:\n",
    "\n",
    "- Spectra: example of data with continuity.\n",
    "- Values are highly correlated with preceding and following values.\n",
    "- Other examples? \n",
    "    - Time series."
   ]
  },
  {
   "cell_type": "markdown",
   "metadata": {
    "cell_style": "split",
    "slideshow": {
     "slide_type": "fragment"
    }
   },
   "source": [
    "Let's do this with subplots!"
   ]
  },
  {
   "cell_type": "code",
<<<<<<< HEAD
   "execution_count": null,
=======
   "execution_count": 13,
   "id": "cb130d18",
>>>>>>> 1c511e066ce4eb61918c68b3f95c380e2ffb945f
   "metadata": {
    "slideshow": {
     "slide_type": "slide"
    }
   },
   "outputs": [],
   "source": [
    "fig, ax = plt.subplots(figsize=(7,4))\n",
    "\n",
    "#by default, line plot. First argument is X list/array.\n",
    "# Second argument is Y list/array.\n",
    "ax.plot(X, Y) \n",
    "\n",
    "plt.tight_layout()\n",
    "plt.show()\n",
    "\n"
   ]
  },
  {
   "cell_type": "markdown",
   "metadata": {
    "slideshow": {
     "slide_type": "fragment"
    }
   },
   "source": [
    "What's the problem with this plot?"
   ]
  },
  {
   "cell_type": "markdown",
   "metadata": {
    "slideshow": {
     "slide_type": "slide"
    }
   },
   "source": [
    "#### Setting axis labels, title:\n",
    "\n",
    "More ax object methods:\n",
    "- .set_xlabel()\n",
    "- .set_ylabel()\n",
    "- .set_title()\n"
   ]
  },
  {
   "cell_type": "code",
<<<<<<< HEAD
   "execution_count": null,
=======
   "execution_count": 15,
   "id": "e52b7d8e",
>>>>>>> 1c511e066ce4eb61918c68b3f95c380e2ffb945f
   "metadata": {
    "slideshow": {
     "slide_type": "slide"
    }
   },
   "outputs": [],
   "source": [
    "fig, ax = plt.subplots(figsize=(7,4))\n",
    "\n",
    "ax.plot(X, Y) \n",
    "\n",
    "# set axis labels and title\n",
    "ax.set_xlabel('Raman shift [cm$^{-1}$]')\n",
    "ax.set_ylabel('Normalized intensity [a.u.]')\n",
    "ax.set_title('Raman Absorption Spectrum: Prokaryote')\n",
    "\n",
    "plt.tight_layout()\n",
    "plt.show()"
   ]
  },
  {
   "cell_type": "markdown",
   "metadata": {
    "slideshow": {
     "slide_type": "slide"
    }
   },
   "source": [
    "#### Basic styling on our plot:\n",
    "\n",
    "Many styling attributes embedded in:\n",
    "- .plot()\n",
    "- .set_xlabel()\n",
    "- .set_ylabel()\n",
    "- .set_title()"
   ]
  },
  {
   "cell_type": "code",
<<<<<<< HEAD
   "execution_count": null,
=======
   "execution_count": 25,
   "id": "0b41d2da",
>>>>>>> 1c511e066ce4eb61918c68b3f95c380e2ffb945f
   "metadata": {
    "scrolled": true,
    "slideshow": {
     "slide_type": "slide"
    }
   },
<<<<<<< HEAD
   "outputs": [],
=======
   "outputs": [
    {
     "data": {
      "image/png": "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\n",
      "text/plain": [
       "<Figure size 504x288 with 1 Axes>"
      ]
     },
     "metadata": {
      "needs_background": "light"
     },
     "output_type": "display_data"
    }
   ],
>>>>>>> 1c511e066ce4eb61918c68b3f95c380e2ffb945f
   "source": [
    "fig, ax = plt.subplots(figsize=(7,4))\n",
    "\n",
    "ax.plot(X, Y, c ='green', linewidth = 5, linestyle = '--') # change color and line width\n",
    "\n",
    "ax.set_xlabel('Raman shift [cm$^{-1}$]', fontfamily = 'Arial', fontsize = 15)\n",
    "ax.set_ylabel('Normalized intensity [a.u.]', fontfamily = 'Arial', fontsize = 15)\n",
    "ax.set_title('Raman Absorption Spectrum: Prokaryote', fontfamily = 'Arial', fontsize = 18 )\n",
    "\n",
    "plt.tight_layout()\n",
    "plt.show()"
   ]
  },
  {
   "cell_type": "markdown",
   "metadata": {
    "cell_style": "center",
    "slideshow": {
     "slide_type": "slide"
    }
   },
   "source": [
    "What about those ticks?\n",
    "\n",
    "Yup, ax objects have methods for these:\n",
    "\n",
    "Can pass in ticks locations and turn on minor ticks\n",
    "- .set_xticks()\n",
    "- .set_yticks()"
   ]
  },
  {
   "cell_type": "code",
<<<<<<< HEAD
   "execution_count": null,
=======
   "execution_count": 26,
   "id": "6b330de5",
>>>>>>> 1c511e066ce4eb61918c68b3f95c380e2ffb945f
   "metadata": {
    "cell_style": "center",
    "slideshow": {
     "slide_type": "slide"
    }
   },
   "outputs": [],
   "source": [
    "%%capture out \n",
    "\n",
    "fig, ax = plt.subplots(figsize=(7,4))\n",
    "ax.plot(X, Y, c ='r', linewidth = 0.5)\n",
    "ax.set_xlabel('Raman shift [cm$^{-1}$]', fontsize = 14)\n",
    "ax.set_ylabel('Normalized intensity [a.u.]', fontsize = 14)\n",
    "ax.set_title('Raman Absorption Spectrum: Prokaryote', fontsize = 18 )\n",
    "\n",
    "# ax set_ticks tick placement\n",
    "ax.set_xticks(range(300,1050,50), minor = True)\n",
    "ax.set_yticks(np.arange(0,1.1,0.1), minor = True)\n",
    "\n",
    "plt.show()"
   ]
  },
  {
   "cell_type": "code",
   "execution_count": null,
   "metadata": {
    "cell_style": "center",
    "slideshow": {
     "slide_type": "slide"
    }
   },
   "outputs": [],
   "source": [
    "out.show()"
   ]
  },
  {
   "cell_type": "markdown",
   "metadata": {
    "cell_style": "split",
    "slideshow": {
     "slide_type": "fragment"
    }
   },
   "source": [
    "Tick options on axes objects (options for tick labels also):\n",
    "\n",
    "- ax.tick_params()"
   ]
  },
  {
   "cell_type": "code",
<<<<<<< HEAD
   "execution_count": null,
=======
   "execution_count": 27,
   "id": "8544778b",
>>>>>>> 1c511e066ce4eb61918c68b3f95c380e2ffb945f
   "metadata": {
    "slideshow": {
     "slide_type": "slide"
    }
   },
   "outputs": [],
   "source": [
    "%%capture out_ticks_styled \n",
    "\n",
    "fig, ax = plt.subplots(figsize=(7,4))\n",
    "ax.plot(X, Y, c ='r', linewidth = 1)\n",
    "ax.set_xlabel('Raman shift [cm$^{-1}$]', fontsize = 14)\n",
    "ax.set_ylabel('Normalized intensity [a.u.]', fontsize = 14)\n",
    "ax.set_title('Raman Absorption Spectrum: Prokaryote', fontsize = 13 )\n",
    "ax.set_xticks(range(300,1050,50), minor = True)\n",
    "ax.set_yticks(np.arange(0,1.1,0.1), minor = True)\n",
    "\n",
    "# set tick styling: ticks on all sides, facing in.\n",
    "#change major and minor tick lengths.\n",
    "ax.tick_params(bottom = True, top = True, left = True, right = True, \n",
    "               labelsize = 13, which='major', direction = 'in', length = 7)\n",
    "ax.tick_params(bottom = True, top = True, left = True, right = True, \n",
    "               which='minor', direction = 'in', length = 4)\n",
    "\n",
    "plt.show()"
   ]
  },
  {
   "cell_type": "code",
<<<<<<< HEAD
   "execution_count": null,
=======
   "execution_count": 28,
   "id": "0e76b53c",
>>>>>>> 1c511e066ce4eb61918c68b3f95c380e2ffb945f
   "metadata": {
    "cell_style": "split",
    "slideshow": {
     "slide_type": "slide"
    }
   },
   "outputs": [],
   "source": [
    "out_ticks_styled.show() # after"
   ]
  },
  {
   "cell_type": "code",
   "execution_count": null,
   "metadata": {
    "cell_style": "split",
    "slideshow": {
     "slide_type": "fragment"
    }
   },
   "outputs": [],
   "source": [
    "out.show() # before"
   ]
  },
  {
   "cell_type": "markdown",
   "metadata": {
    "slideshow": {
     "slide_type": "slide"
    }
   },
   "source": [
    "Labeling ticks:\n",
    "\n",
    "ax.set_xticklabels() and ax.set_yticklabels()\n",
    "\n",
    "- Takes in list of labels for each tick\n",
    "- Styling options"
   ]
  },
  {
   "cell_type": "code",
<<<<<<< HEAD
   "execution_count": null,
=======
   "execution_count": 29,
   "id": "0e9b4350",
>>>>>>> 1c511e066ce4eb61918c68b3f95c380e2ffb945f
   "metadata": {
    "slideshow": {
     "slide_type": "subslide"
    }
   },
   "outputs": [],
   "source": [
    "%%capture outticklabels\n",
    "\n",
    "fig, ax = plt.subplots(figsize=(7,4))\n",
    "#by default, line plot. First argument is X list/array.\n",
    "# Second argument is Y list/array.\n",
    "ax.plot(X, Y, c ='r', linewidth = 0.5)\n",
    "ax.set_xlabel('Raman shift [cm$^{-1}$]', fontsize = 14)\n",
    "ax.set_ylabel('Normalized intensity [a.u.]', fontsize = 14)\n",
    "ax.set_title('Raman Absorption Spectrum: Prokaryote', fontsize = 13 )\n",
    "ax.set_xticks(range(300,1050,100))\n",
    "ax.set_yticks(np.arange(0,1.1,0.1))\n",
    "\n",
    "# ax set_ticks in action: manually relabeling to scientific notation\n",
    "ax.set_xticklabels([ str(int(x)) + '.0E2' for x in range(3, 11, 1)], fontsize = 12)\n",
    "ax.set_yticklabels([ str(int(x)) + 'E-1' for x in np.arange(0,11,1) ], fontsize = 12)\n",
    "\n",
    "\n",
    "plt.show()"
   ]
  },
  {
   "cell_type": "code",
<<<<<<< HEAD
   "execution_count": null,
=======
   "execution_count": 30,
   "id": "46ea82c3",
>>>>>>> 1c511e066ce4eb61918c68b3f95c380e2ffb945f
   "metadata": {
    "slideshow": {
     "slide_type": "subslide"
    }
   },
   "outputs": [],
   "source": [
    "outticklabels.show() # ticks manually labeled"
   ]
  },
  {
   "cell_type": "markdown",
   "metadata": {
    "cell_style": "split",
    "slideshow": {
     "slide_type": "slide"
    }
   },
   "source": [
    "#### Some other plot types for axes objects:\n",
    "- Scatter plots.\n",
    "- Histograms.\n",
    "- Bar plots.\n",
    "- Box plots."
   ]
  },
  {
   "cell_type": "markdown",
   "metadata": {
    "cell_style": "split",
    "slideshow": {
     "slide_type": "fragment"
    }
   },
   "source": [
    "#### Syntax in matplotlib:\n",
    "- ax.scatter()\n",
    "- ax.hist()\n",
    "- ax.bar()\n",
    "- ax.boxplot()"
   ]
  },
  {
   "cell_type": "markdown",
   "metadata": {
    "slideshow": {
     "slide_type": "slide"
    }
   },
   "source": [
    "Let's see some of these methods in action on a dataset about penguins:\n",
    "- Body mass\n",
    "- Flipper length"
   ]
  },
  {
   "cell_type": "code",
<<<<<<< HEAD
   "execution_count": null,
=======
   "execution_count": 31,
   "id": "73042d7c",
>>>>>>> 1c511e066ce4eb61918c68b3f95c380e2ffb945f
   "metadata": {
    "slideshow": {
     "slide_type": "fragment"
    }
   },
   "outputs": [],
   "source": [
    "penguin_dict = {}\n",
    "with open('Data/penguins.csv') as f:\n",
    "    masslist = []\n",
    "    lflipper = []\n",
    "    species = []\n",
    "    reader = csv.DictReader(f)\n",
    "    for row in reader:\n",
    "        masslist.append(int(row['Body Mass (g)']))\n",
    "        lflipper.append(int(row['Flipper Length (mm)']))\n",
    "        species.append(row['Species'])\n",
    "    penguin_dict['Body Mass (g)'] = masslist\n",
    "    penguin_dict['Flipper Length (mm)'] = lflipper\n",
    "    penguin_dict['Species'] = species"
   ]
  },
  {
   "cell_type": "markdown",
   "metadata": {
    "slideshow": {
     "slide_type": "slide"
    }
   },
   "source": [
    "Scatter plots are good for visualizing relationships between two continuous numerical attributes:"
   ]
  },
  {
   "cell_type": "code",
<<<<<<< HEAD
   "execution_count": null,
=======
   "execution_count": 49,
   "id": "5c7be4cf",
>>>>>>> 1c511e066ce4eb61918c68b3f95c380e2ffb945f
   "metadata": {
    "scrolled": false,
    "slideshow": {
     "slide_type": "fragment"
    }
   },
<<<<<<< HEAD
   "outputs": [],
=======
   "outputs": [
    {
     "data": {
      "image/png": "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\n",
      "text/plain": [
       "<Figure size 432x288 with 1 Axes>"
      ]
     },
     "metadata": {
      "needs_background": "light"
     },
     "output_type": "display_data"
    }
   ],
>>>>>>> 1c511e066ce4eb61918c68b3f95c380e2ffb945f
   "source": [
    "fig, ax = plt.subplots()\n",
    "ax.scatter(penguin_dict['Body Mass (g)'], penguin_dict['Flipper Length (mm)'] , marker = 's', s = 50, alpha = .1, c = 'g')\n",
    "ax.set_xlabel('Body Mass (g)')\n",
    "ax.set_ylabel('Flipper Length (mm)' )\n",
    "ax.set_title('Penguins: Flipper to Mass Relation')\n",
    "plt.show()"
   ]
  },
  {
   "cell_type": "markdown",
   "metadata": {
    "slideshow": {
     "slide_type": "slide"
    }
   },
   "source": [
    "Histograms can be useful for inspecting how a numerical attribute is distributed:"
   ]
  },
  {
   "cell_type": "code",
<<<<<<< HEAD
   "execution_count": null,
=======
   "execution_count": 51,
   "id": "4980f5ac",
>>>>>>> 1c511e066ce4eb61918c68b3f95c380e2ffb945f
   "metadata": {
    "slideshow": {
     "slide_type": "fragment"
    }
   },
   "outputs": [],
   "source": [
    "fig, ax = plt.subplots()\n",
    "\n",
<<<<<<< HEAD
    "ax.hist(penguin_dict['Body Mass (g)'], bins = 15, color = 'green')\n",
=======
    "ax.hist(penguin_dict['Body Mass (g)'], histtype = 'step', bins = 15, color = 'green')\n",
>>>>>>> 1c511e066ce4eb61918c68b3f95c380e2ffb945f
    "\n",
    "ax.set_xlabel('Body Mass (g)')\n",
    "ax.set_ylabel('Count Frequency' )\n",
    "ax.set_title('Penguin Mass Distribution')\n",
    "plt.show()"
   ]
  },
  {
   "cell_type": "markdown",
   "metadata": {
    "slideshow": {
     "slide_type": "slide"
    }
   },
   "source": [
    "What if we want to visualize the sub-distributions of the Adelie and Gentoo penguin masses on top of each other?"
   ]
  },
  {
   "cell_type": "code",
<<<<<<< HEAD
   "execution_count": null,
=======
   "execution_count": 52,
   "id": "a2368192",
>>>>>>> 1c511e066ce4eb61918c68b3f95c380e2ffb945f
   "metadata": {
    "slideshow": {
     "slide_type": "fragment"
    }
   },
   "outputs": [],
   "source": [
    "# this code gets the masses for the Adelie and Gentoo penguin subpopulations respectively.\n",
    "\n",
    "adelie_selector = [i for i,x in enumerate(penguin_dict['Species']) if x == 'Adelie Penguin (Pygoscelis adeliae)' ]\n",
    "adelie_masses = [penguin_dict['Body Mass (g)'][i] for i in adelie_selector]\n",
    "\n",
    "gentoo_selector = [i for i,x in enumerate(penguin_dict['Species']) if x == 'Gentoo penguin (Pygoscelis papua)' ]\n",
    "gentoo_masses = [penguin_dict['Body Mass (g)'][i] for i in gentoo_selector]"
   ]
  },
  {
   "cell_type": "markdown",
   "metadata": {
    "slideshow": {
     "slide_type": "slide"
    }
   },
   "source": [
    "A single ax object can be updated with multiple plots:\n",
    "\n",
    "- ax objects save state: \n",
    "    - a single call to a plot function loads ax object with a plot\n",
    "- plot is saved within ax object\n",
    "- another call to a plot function on same ax object:\n",
    "    - overlays new plot on top of old plot in same ax object."
   ]
  },
  {
   "cell_type": "code",
<<<<<<< HEAD
   "execution_count": null,
=======
   "execution_count": 58,
   "id": "d6e566a7",
>>>>>>> 1c511e066ce4eb61918c68b3f95c380e2ffb945f
   "metadata": {
    "scrolled": true,
    "slideshow": {
     "slide_type": "subslide"
    }
   },
   "outputs": [],
   "source": [
    "fig, ax = plt.subplots()\n",
    "\n",
    "ax.hist(gentoo_masses, bins = 10, histtype = 'step', color = 'green')\n",
    "ax.hist(adelie_masses, bins = 10, histtype = 'step', color = 'blue')\n",
    "\n",
    "ax.set_xlabel('Body Mass (g)')\n",
    "ax.set_ylabel('Count Frequency' )\n",
    "ax.set_title('Penguin Mass Distribution')\n",
    "\n",
    "\n",
    "plt.show()"
   ]
  },
  {
   "cell_type": "markdown",
   "metadata": {
    "cell_style": "split",
    "slideshow": {
     "slide_type": "slide"
    }
   },
   "source": [
    "That's cool:\n",
    "- But some legends might be nice. "
   ]
  },
  {
   "cell_type": "markdown",
   "metadata": {
    "cell_style": "split",
    "slideshow": {
     "slide_type": "fragment"
    }
   },
   "source": [
    "#### Legends\n",
    "\n",
    "ax.legend(labels, loc = __)\n",
    "\n",
    ".plot() functions have label argument for legends, etc."
   ]
  },
  {
   "cell_type": "code",
<<<<<<< HEAD
   "execution_count": null,
=======
   "execution_count": 61,
   "id": "9bbb90ea",
>>>>>>> 1c511e066ce4eb61918c68b3f95c380e2ffb945f
   "metadata": {
    "cell_style": "center",
    "slideshow": {
     "slide_type": "subslide"
    }
   },
   "outputs": [],
   "source": [
    "fig, ax = plt.subplots()\n",
    "\n",
    "ax.hist(gentoo_masses, bins = 10, histtype = 'step', color = 'green', label = 'Gentoo')\n",
    "ax.hist(adelie_masses, bins = 10, histtype = 'step', color = 'blue', label = 'Adelie')\n",
    "\n",
    "ax.set_xlabel('Body Mass (g)')\n",
    "ax.set_ylabel('Count Frequency' )\n",
    "ax.set_title('Penguin Mass Distribution')\n",
    "# auto-fills in legend labels by referencing ax plot labels\n",
    "ax.legend(loc = 'upper right')\n",
    "\n",
    "plt.show()"
   ]
  },
  {
   "cell_type": "code",
   "execution_count": null,
   "metadata": {
    "slideshow": {
     "slide_type": "subslide"
    }
   },
   "outputs": [],
   "source": [
    "fig, ax = plt.subplots()\n",
    "\n",
    "ax.hist(gentoo_masses, bins = 10, histtype = 'step', color = 'green', label = 'Gentoo')\n",
    "ax.hist(adelie_masses, bins = 10, histtype = 'step', color = 'blue', label = 'Adelie')\n",
    "\n",
    "ax.set_xlabel('Body Mass (g)')\n",
    "ax.set_ylabel('Count Frequency' )\n",
    "ax.set_title('Penguin Mass Distribution')\n",
    "\n",
    "# can override/manually enter labels for each plot\n",
    "ax.legend(['Big Guy', 'Little Guy'],loc = 'upper right')\n",
    "\n",
    "plt.show()"
   ]
  },
  {
   "cell_type": "markdown",
   "metadata": {
    "slideshow": {
     "slide_type": "slide"
    }
   },
   "source": [
    "Bar plots:\n",
    "- Bar plots are self explanatory.\n",
    "- But: let's do a bar plot on counts of unique entries in a categorical attribute.\n",
    "- Known as a count plot.\n",
    "\n",
    "First, let's get counts of the unique species of penguins in our dataset:"
   ]
  },
  {
   "cell_type": "code",
<<<<<<< HEAD
   "execution_count": null,
=======
   "execution_count": 62,
   "id": "96d27770",
>>>>>>> 1c511e066ce4eb61918c68b3f95c380e2ffb945f
   "metadata": {},
   "outputs": [],
   "source": [
    "# collections is a really REALLY useful base python package.\n",
    "# Counter objects have a few nifty methods.\n",
    "from collections import Counter\n",
    "\n",
    "species_counter = Counter(penguin_dict['Species'])\n",
    "print(species_counter)"
   ]
  },
  {
   "cell_type": "markdown",
   "metadata": {
    "slideshow": {
     "slide_type": "subslide"
    }
   },
   "source": [
    "Prepare x and y for barplot:"
   ]
  },
  {
   "cell_type": "code",
<<<<<<< HEAD
   "execution_count": null,
=======
   "execution_count": 63,
   "id": "a0026861",
>>>>>>> 1c511e066ce4eb61918c68b3f95c380e2ffb945f
   "metadata": {
    "slideshow": {
     "slide_type": "fragment"
    }
   },
   "outputs": [],
   "source": [
    "species_name = [name.split()[0] for name in species_counter.keys()]\n",
    "species_count = species_counter.values()"
   ]
  },
  {
   "cell_type": "markdown",
   "metadata": {
    "slideshow": {
     "slide_type": "slide"
    }
   },
   "source": [
    "Make the bar plot:\n",
    "- ax.bar(category_labels, count_values)"
   ]
  },
  {
   "cell_type": "code",
<<<<<<< HEAD
   "execution_count": null,
=======
   "execution_count": 64,
   "id": "9e8f9151",
>>>>>>> 1c511e066ce4eb61918c68b3f95c380e2ffb945f
   "metadata": {
    "scrolled": true,
    "slideshow": {
     "slide_type": "fragment"
    }
   },
   "outputs": [],
   "source": [
    "fig, ax = plt.subplots(figsize=(4,4))\n",
    "\n",
    "# sets up bar plot\n",
    "ax.bar(species_name, species_count, color = 'g')\n",
    "ax.set_ylabel('Count')\n",
    "ax.set_title('Sample count: penguin species')\n",
    "plt.tight_layout()\n",
    "plt.show()"
   ]
  },
  {
   "cell_type": "markdown",
   "metadata": {
    "cell_style": "split",
    "slideshow": {
     "slide_type": "slide"
    }
   },
   "source": [
    "#### Subplot grid\n",
    "\n",
    "- We often want to plot multiple graphs together.\n",
    "- matplotlib supports these graphs in single Figure as a grid.\n",
    "\n",
    "fig, axs = plt.subplots(nrows = 2, ncols = 2)"
   ]
  },
  {
   "cell_type": "markdown",
   "metadata": {
    "cell_style": "split",
    "slideshow": {
     "slide_type": "fragment"
    }
   },
   "source": [
    "- axs is a 2D addressable array.\n",
    "- Each element of axs is an ax object\n",
    "- axs[0,0]: top left plot.\n",
    "- axs[1,1]: bottom right plot."
   ]
  },
  {
   "cell_type": "markdown",
   "metadata": {
    "slideshow": {
     "slide_type": "slide"
    }
   },
   "source": [
    "Let's create a 2x2 grid of some penguin data:\n",
    "- scatter plot of flipper length vs mass\n",
    "- distribution of flipper length\n",
    "- distribution of mass\n",
    "- count for penguin species"
   ]
  },
  {
   "cell_type": "code",
<<<<<<< HEAD
   "execution_count": null,
=======
   "execution_count": 65,
   "id": "5175c092",
>>>>>>> 1c511e066ce4eb61918c68b3f95c380e2ffb945f
   "metadata": {
    "cell_style": "center",
    "slideshow": {
     "slide_type": "subslide"
    }
   },
   "outputs": [],
   "source": [
    "%%capture multiple_subplots\n",
    "\n",
    "\n",
    "fig, axs = plt.subplots(2,2, figsize=(10,8))\n",
    "\n",
    "axs[0,0].scatter(penguin_dict['Body Mass (g)'],penguin_dict['Flipper Length (mm)'], \n",
    "                 marker = 'v', s = 60, alpha = 0.6, c = 'b')\n",
    "axs[0,0].set_xlabel('Body Mass [g]')\n",
    "axs[0,0].set_ylabel('Flipper length [mm]')\n",
    "\n",
    "axs[0,1].hist(penguin_dict['Body Mass (g)'], bins = 30, histtype='bar', color = 'green')\n",
    "axs[0,1].set_xlabel('Body Mass [g]')\n",
    "axs[0,1].set_ylabel('Count')\n",
    "\n",
    "axs[1,0].bar(species_name, species_count)\n",
    "axs[1,0].set_ylabel('Count')\n",
    "\n",
    "axs[1,1].hist(penguin_dict['Flipper Length (mm)'] , bins = 30, histtype='bar', color = 'green')\n",
    "axs[1,1].set_xlabel('Body Mass [g]')\n",
    "axs[1,1].set_ylabel('Count')\n",
    "\n",
    "plt.tight_layout()\n",
    "\n",
    "plt.show()"
   ]
  },
  {
   "cell_type": "code",
<<<<<<< HEAD
   "execution_count": null,
=======
   "execution_count": 66,
   "id": "947b56b5",
>>>>>>> 1c511e066ce4eb61918c68b3f95c380e2ffb945f
   "metadata": {
    "slideshow": {
     "slide_type": "subslide"
    }
   },
   "outputs": [],
   "source": [
    "multiple_subplots.show()"
   ]
  },
  {
   "cell_type": "markdown",
   "metadata": {
    "slideshow": {
     "slide_type": "slide"
    }
   },
   "source": [
    "There are various styling methods for sharing axis labels, etc:\n",
    "    \n",
    "- see matplotlib documentation for the plethora of options on subplots."
   ]
  },
  {
   "cell_type": "markdown",
   "metadata": {
    "slideshow": {
     "slide_type": "slide"
    }
   },
   "source": [
    "#### Additional useful pyplot styling commands"
   ]
  },
  {
   "cell_type": "markdown",
   "metadata": {
    "slideshow": {
     "slide_type": "fragment"
    }
   },
   "source": [
    "#### Making vertical/horizontal lines \n",
    "\n",
    "- .axvline(x = ) \n",
    "- .axhline(y = )"
   ]
  },
  {
   "cell_type": "code",
<<<<<<< HEAD
   "execution_count": null,
=======
   "execution_count": 67,
   "id": "d7147729",
>>>>>>> 1c511e066ce4eb61918c68b3f95c380e2ffb945f
   "metadata": {
    "slideshow": {
     "slide_type": "subslide"
    }
   },
   "outputs": [],
   "source": [
    "%%capture vhlined\n",
    "\n",
    "fig, ax = plt.subplots(figsize=(7,4))\n",
    "ax.plot(X, Y, c ='r', linewidth = 0.5)\n",
    "ax.set_xlabel('Raman shift [cm$^{-1}$]', fontsize = 14)\n",
    "ax.set_ylabel('Normalized intensity [a.u.]', fontsize = 14)\n",
    "ax.set_title('Raman Absorption Spectrum: Prokaryote', fontsize = 13 )\n",
    "ax.set_xticks(range(300,1050,50), minor = True)\n",
    "ax.set_yticks(np.arange(0,1.1,0.1), minor = True)\n",
    "ax.tick_params(bottom = True, top = True, left = True, right = True, \n",
    "               labelsize = 13, which='major', direction = 'in', length = 7)\n",
    "ax.tick_params(bottom = True, top = True, left = True, right = True, \n",
    "               which='minor', direction = 'in', length = 4)\n",
    "\n",
    "# make a vertical line: max peak raman shift location\n",
    "ax.axvline(x =760, c ='b', linewidth = 2, linestyle = '--')\n",
    "\n",
    "plt.show()"
   ]
  },
  {
   "cell_type": "code",
   "execution_count": null,
   "metadata": {
    "slideshow": {
     "slide_type": "subslide"
    }
   },
   "outputs": [],
   "source": [
    "vhlined.show()"
   ]
  },
  {
   "cell_type": "markdown",
   "metadata": {
    "slideshow": {
     "slide_type": "slide"
    }
   },
   "source": [
    "#### Annotation\n",
    "Put text in a plot:\n",
    "- ax.annotate(text, xy_coords, xytextccords)"
   ]
  },
  {
   "cell_type": "code",
<<<<<<< HEAD
   "execution_count": 1,
=======
   "execution_count": 68,
   "id": "b8c9bacc",
>>>>>>> 1c511e066ce4eb61918c68b3f95c380e2ffb945f
   "metadata": {
    "slideshow": {
     "slide_type": "subslide"
    }
   },
   "outputs": [
    {
     "ename": "NameError",
     "evalue": "name 'plt' is not defined",
     "output_type": "error",
     "traceback": [
      "\u001b[0;31m---------------------------------------------------------------------------\u001b[0m",
      "\u001b[0;31mNameError\u001b[0m                                 Traceback (most recent call last)",
      "\u001b[0;32m<ipython-input-1-0a957f887b00>\u001b[0m in \u001b[0;36m<module>\u001b[0;34m\u001b[0m\n\u001b[0;32m----> 1\u001b[0;31m \u001b[0mfig\u001b[0m\u001b[0;34m,\u001b[0m \u001b[0max\u001b[0m \u001b[0;34m=\u001b[0m \u001b[0mplt\u001b[0m\u001b[0;34m.\u001b[0m\u001b[0msubplots\u001b[0m\u001b[0;34m(\u001b[0m\u001b[0mfigsize\u001b[0m\u001b[0;34m=\u001b[0m\u001b[0;34m(\u001b[0m\u001b[0;36m7\u001b[0m\u001b[0;34m,\u001b[0m\u001b[0;36m4\u001b[0m\u001b[0;34m)\u001b[0m\u001b[0;34m)\u001b[0m\u001b[0;34m\u001b[0m\u001b[0;34m\u001b[0m\u001b[0m\n\u001b[0m\u001b[1;32m      2\u001b[0m \u001b[0max\u001b[0m\u001b[0;34m.\u001b[0m\u001b[0mplot\u001b[0m\u001b[0;34m(\u001b[0m\u001b[0mX\u001b[0m\u001b[0;34m,\u001b[0m \u001b[0mY\u001b[0m\u001b[0;34m,\u001b[0m \u001b[0mc\u001b[0m \u001b[0;34m=\u001b[0m\u001b[0;34m'r'\u001b[0m\u001b[0;34m,\u001b[0m \u001b[0mlinewidth\u001b[0m \u001b[0;34m=\u001b[0m \u001b[0;36m0.5\u001b[0m\u001b[0;34m)\u001b[0m\u001b[0;34m\u001b[0m\u001b[0;34m\u001b[0m\u001b[0m\n\u001b[1;32m      3\u001b[0m \u001b[0max\u001b[0m\u001b[0;34m.\u001b[0m\u001b[0mset_xlabel\u001b[0m\u001b[0;34m(\u001b[0m\u001b[0;34m'Raman shift [cm$^{-1}$]'\u001b[0m\u001b[0;34m,\u001b[0m \u001b[0mfontsize\u001b[0m \u001b[0;34m=\u001b[0m \u001b[0;36m14\u001b[0m\u001b[0;34m)\u001b[0m\u001b[0;34m\u001b[0m\u001b[0;34m\u001b[0m\u001b[0m\n\u001b[1;32m      4\u001b[0m \u001b[0max\u001b[0m\u001b[0;34m.\u001b[0m\u001b[0mset_ylabel\u001b[0m\u001b[0;34m(\u001b[0m\u001b[0;34m'Normalized intensity [a.u.]'\u001b[0m\u001b[0;34m,\u001b[0m \u001b[0mfontsize\u001b[0m \u001b[0;34m=\u001b[0m \u001b[0;36m14\u001b[0m\u001b[0;34m)\u001b[0m\u001b[0;34m\u001b[0m\u001b[0;34m\u001b[0m\u001b[0m\n\u001b[1;32m      5\u001b[0m \u001b[0max\u001b[0m\u001b[0;34m.\u001b[0m\u001b[0mset_title\u001b[0m\u001b[0;34m(\u001b[0m\u001b[0;34m'Raman Absorption Spectrum: Prokaryote'\u001b[0m\u001b[0;34m,\u001b[0m \u001b[0mfontsize\u001b[0m \u001b[0;34m=\u001b[0m \u001b[0;36m13\u001b[0m \u001b[0;34m)\u001b[0m\u001b[0;34m\u001b[0m\u001b[0;34m\u001b[0m\u001b[0m\n",
      "\u001b[0;31mNameError\u001b[0m: name 'plt' is not defined"
     ]
    }
   ],
   "source": [
    "%%capture annot\n",
    "\n",
    "fig, ax = plt.subplots(figsize=(7,4))\n",
    "ax.plot(X, Y, c ='r', linewidth = 0.5)\n",
    "ax.set_xlabel('Raman shift [cm$^{-1}$]', fontsize = 14)\n",
    "ax.set_ylabel('Normalized intensity [a.u.]', fontsize = 14)\n",
    "ax.set_title('Raman Absorption Spectrum: Prokaryote', fontsize = 13 )\n",
    "ax.set_xticks(range(300,1050,50), minor = True)\n",
    "ax.set_yticks(np.arange(0,1.1,0.1), minor = True)\n",
    "ax.tick_params(bottom = True, top = True, left = True, right = True, \n",
    "               labelsize = 13, which='major', direction = 'in', length = 7)\n",
    "ax.tick_params(bottom = True, top = True, left = True, right = True, \n",
    "               which='minor', direction = 'in', length = 4)\n",
    "ax.axvline(x =760, c ='b', linewidth = 2, linestyle = '--')\n",
    "\n",
    "# annotate peak location\n",
    "ax.annotate('Peak 1', xy = [750,.9], xytext = [580,.95], fontsize = 12,  arrowprops={\"arrowstyle\":\"->\", \"color\":\"blue\"}, c = 'b')\n",
    "\n",
    "plt.show()"
   ]
  },
  {
   "cell_type": "code",
   "execution_count": null,
   "metadata": {
    "slideshow": {
     "slide_type": "subslide"
    }
   },
   "outputs": [],
   "source": [
    "annot.show()"
   ]
  },
  {
   "cell_type": "markdown",
   "metadata": {
    "slideshow": {
     "slide_type": "slide"
    }
   },
   "source": [
    "#### Summary \n",
    "- Tip of iceberg \n",
    "- Will cover later in course: boxplots, ecdfs, etc.\n",
    "- Higher level visualization packages built off matplotlib:\n",
    "    - Pandas plotting\n",
    "    - Seaborn\n",
    "    - Plotly\n",
    "    - Bokeh, ..."
   ]
  }
 ],
 "metadata": {
  "celltoolbar": "Slideshow",
  "kernelspec": {
   "display_name": "Python 3",
   "language": "python",
   "name": "python3"
  },
  "language_info": {
   "codemirror_mode": {
    "name": "ipython",
    "version": 3
   },
   "file_extension": ".py",
   "mimetype": "text/x-python",
   "name": "python",
   "nbconvert_exporter": "python",
   "pygments_lexer": "ipython3",
   "version": "3.8.5"
  }
 },
 "nbformat": 4,
 "nbformat_minor": 5
}
