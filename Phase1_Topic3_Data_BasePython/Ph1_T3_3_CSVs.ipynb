{
 "cells": [
  {
   "cell_type": "markdown",
   "id": "09b076d6",
   "metadata": {
    "slideshow": {
     "slide_type": "slide"
    }
   },
   "source": [
    "<div style=\"color:white;\n",
    "           display:fill;\n",
    "           border-radius:5px;\n",
    "           background-color:#5642C5;\n",
    "           font-size:200%;\n",
    "           font-family:Arial;letter-spacing:0.5px\">\n",
    "\n",
    "<p width = 20%, style=\"padding: 10px;\n",
    "              color:white;\">\n",
    "Base Python: Comma Separated Value (CSV) Files\n",
    "              \n",
    "</p>\n",
    "</div>\n",
    "\n",
    "Data Science Cohort Live NYC Feb 2022\n",
    "<p>Phase 1: Topic 3</p>\n",
    "<br>\n",
    "<br>\n",
    "\n",
    "<div align = \"right\">\n",
    "<img src=\"Images/flatiron-school-logo.png\" align = \"right\" width=\"200\"/>\n",
    "</div>\n",
    "    \n",
    "    "
   ]
  },
  {
   "cell_type": "markdown",
   "id": "19c312fc",
   "metadata": {
    "slideshow": {
     "slide_type": "slide"
    }
   },
   "source": [
    "#### Comma Separated Value Format\n",
    "\n",
    "- Tabular data\n",
    "- Column entries separated by commas\n",
    "- Typical file extensions: .csv, .dat, .txt\n",
    "- Very common data format\n",
    "\n",
    "Example: Track times (s) for 100m dash for four athletes across 3 meets."
   ]
  },
  {
   "cell_type": "markdown",
   "id": "34e019ef",
   "metadata": {
    "slideshow": {
     "slide_type": "slide"
    }
   },
   "source": [
    "Clear tabular format:\n",
    "\n",
    "| Meet 1 | Meet 2 | Meet 3 |\n",
    "| ------ | ------ | ------ |\n",
    "| 13.10  | 13.59  | 13.44  |\n",
    "| 13.93  | 13.85  | 13.47  |\n",
    "| 14.12  | 14.41  | 13.89  |\n",
    "| 14.42  | 13.55  | 13.43  |\n"
   ]
  },
  {
   "cell_type": "markdown",
   "id": "ecfc609a",
   "metadata": {
    "slideshow": {
     "slide_type": "slide"
    }
   },
   "source": [
    "Data as nested list of numbers:"
   ]
  },
  {
   "cell_type": "code",
<<<<<<< HEAD
   "execution_count": 1,
   "id": "86bc1390",
=======
   "execution_count": 27,
   "id": "0e9ce1b0",
>>>>>>> 1c511e066ce4eb61918c68b3f95c380e2ffb945f
   "metadata": {
    "slideshow": {
     "slide_type": "fragment"
    }
   },
   "outputs": [
    {
     "data": {
      "text/plain": [
       "[[13.1, 13.59, 13.44],\n",
       " [13.93, 13.85, 13.47],\n",
       " [14.12, 14.41, 13.89],\n",
       " [14.42, 13.55, 13.43]]"
      ]
     },
     "execution_count": 27,
     "metadata": {},
     "output_type": "execute_result"
    }
   ],
   "source": [
    "track_times = [\n",
    "    [13.10, 13.59, 13.44],\n",
    "    [13.93, 13.85, 13.47],\n",
    "    [14.12, 14.41, 13.89],\n",
    "    [14.42, 13.55, 13.43]\n",
    "]\n",
    "\n",
    "track_times"
   ]
  },
  {
   "cell_type": "markdown",
   "id": "a6543500",
   "metadata": {
    "slideshow": {
     "slide_type": "slide"
    }
   },
   "source": [
    "Data in file represented as simple text with comma delimiter:\n",
    "- Coming from file will be formatted as string.\n",
    "- Will look like below:"
   ]
  },
  {
   "cell_type": "code",
<<<<<<< HEAD
   "execution_count": 2,
   "id": "831677e0",
=======
   "execution_count": 53,
   "id": "65557b55",
>>>>>>> 1c511e066ce4eb61918c68b3f95c380e2ffb945f
   "metadata": {
    "slideshow": {
     "slide_type": "subslide"
    }
   },
   "outputs": [
    {
     "data": {
      "text/plain": [
       "'13.1,13.59,13.44\\n13.93,13.85,13.47\\n14.12,14.41,13.89\\n14.42,13.55,13.43'"
      ]
     },
     "execution_count": 53,
     "metadata": {},
     "output_type": "execute_result"
    }
   ],
   "source": [
    "# Initialize an empty string\n",
    "track_times_csv = \"\"\n",
    "\n",
    "# Loop over all lists in the overall list\n",
    "for index, athlete_times in enumerate(track_times):\n",
    "    # Join together the values in the nested list using\n",
    "    # a comma as a separator\n",
    "    athlete_times_string = \",\".join([str(time) for time in athlete_times])\n",
    "    # Append the values to the overall string\n",
    "    track_times_csv += athlete_times_string\n",
    "    # Append a newline, unless this is the last row\n",
    "    if index < (len(track_times) - 1):\n",
    "        track_times_csv += \"\\n\"\n",
    "    \n",
    "track_times_csv"
   ]
  },
  {
   "cell_type": "markdown",
   "id": "d40c4d96",
   "metadata": {
    "slideshow": {
     "slide_type": "slide"
    }
   },
   "source": [
    "What we want (inverse process):\n",
    "- Interpret string as tabular data.\n",
    "- Convert to a Python list or dict.\n",
    "- Load into memory."
   ]
  },
  {
   "cell_type": "markdown",
   "id": "4b6223f1",
   "metadata": {
    "slideshow": {
     "slide_type": "subslide"
    }
   },
   "source": [
    "Write comma separated string to file:"
   ]
  },
  {
   "cell_type": "code",
<<<<<<< HEAD
   "execution_count": 3,
   "id": "dc0d231e",
=======
   "execution_count": 54,
   "id": "bf4c6320",
>>>>>>> 1c511e066ce4eb61918c68b3f95c380e2ffb945f
   "metadata": {
    "slideshow": {
     "slide_type": "fragment"
    }
   },
   "outputs": [],
   "source": [
    "with open(\"Data/track_times.csv\", \"w\") as f:\n",
    "    f.write(track_times_csv)"
   ]
  },
  {
   "cell_type": "code",
<<<<<<< HEAD
   "execution_count": 4,
   "id": "14a22745",
=======
   "execution_count": 55,
   "id": "d456e6eb",
>>>>>>> 1c511e066ce4eb61918c68b3f95c380e2ffb945f
   "metadata": {
    "slideshow": {
     "slide_type": "fragment"
    }
   },
   "outputs": [
    {
     "data": {
      "text/plain": [
       "True"
      ]
     },
     "execution_count": 55,
     "metadata": {},
     "output_type": "execute_result"
    }
   ],
   "source": [
    "import os\n",
    "os.path.exists('Data/track_times.csv')"
   ]
  },
  {
   "cell_type": "markdown",
   "id": "fab0c229",
   "metadata": {
    "slideshow": {
     "slide_type": "slide"
    }
   },
   "source": [
    "#### Open and read a csv file (raw string):"
   ]
  },
  {
   "cell_type": "code",
<<<<<<< HEAD
   "execution_count": 5,
   "id": "6ae0e00f",
=======
   "execution_count": 56,
   "id": "59949450",
>>>>>>> 1c511e066ce4eb61918c68b3f95c380e2ffb945f
   "metadata": {
    "slideshow": {
     "slide_type": "fragment"
    }
   },
   "outputs": [],
   "source": [
    "with open(\"Data/track_times.csv\", \"r\") as f:\n",
    "    csv_string = f.read()"
   ]
  },
  {
   "cell_type": "code",
<<<<<<< HEAD
   "execution_count": 6,
   "id": "7700beac",
=======
   "execution_count": null,
   "id": "03484ad5",
   "metadata": {},
   "outputs": [],
   "source": []
  },
  {
   "cell_type": "code",
   "execution_count": 32,
   "id": "3fddc8a6",
>>>>>>> 1c511e066ce4eb61918c68b3f95c380e2ffb945f
   "metadata": {
    "scrolled": true,
    "slideshow": {
     "slide_type": "fragment"
    }
   },
   "outputs": [
    {
     "data": {
      "text/plain": [
       "'13.1,13.59,13.44\\n13.93,13.85,13.47\\n14.12,14.41,13.89\\n14.42,13.55,13.43'"
      ]
     },
     "execution_count": 32,
     "metadata": {},
     "output_type": "execute_result"
    }
   ],
   "source": [
    "type(csv_string)\n",
    "csv_string"
   ]
  },
  {
   "cell_type": "markdown",
   "id": "b3fd92aa",
   "metadata": {
    "cell_style": "center",
    "slideshow": {
     "slide_type": "slide"
    }
   },
   "source": [
    "#### Open and read a csv file (convert to list format) line by line:\n",
    "- Good way to do things.\n",
    "- Less memory\n",
    "- Can process and clean line by line.\n"
   ]
  },
  {
   "cell_type": "code",
<<<<<<< HEAD
   "execution_count": 11,
   "id": "2c602ef8",
=======
   "execution_count": 33,
   "id": "f9c784f2",
>>>>>>> 1c511e066ce4eb61918c68b3f95c380e2ffb945f
   "metadata": {
    "cell_style": "center",
    "slideshow": {
     "slide_type": "subslide"
    }
   },
   "outputs": [],
   "source": [
    "\n",
    "with open(\"Data/track_times.csv\", \"r\") as f:\n",
    "    data = []\n",
    "    \n",
    "    while True:\n",
    "        csv_string = f.readline()\n",
    "        if csv_string == '':\n",
    "            break\n",
    "        row = csv_string.strip().split(\",\")\n",
    "        data.append(row)\n"
   ]
  },
  {
   "cell_type": "code",
<<<<<<< HEAD
   "execution_count": 12,
   "id": "234f76e5",
=======
   "execution_count": 34,
   "id": "9b401038",
>>>>>>> 1c511e066ce4eb61918c68b3f95c380e2ffb945f
   "metadata": {
    "slideshow": {
     "slide_type": "fragment"
    }
   },
   "outputs": [
    {
     "data": {
      "text/plain": [
       "[['13.1', '13.59', '13.44'],\n",
       " ['13.93', '13.85', '13.47'],\n",
       " ['14.12', '14.41', '13.89'],\n",
       " ['14.42', '13.55', '13.43']]"
      ]
     },
     "execution_count": 34,
     "metadata": {},
     "output_type": "execute_result"
    }
   ],
   "source": [
    "data"
   ]
  },
  {
   "cell_type": "markdown",
   "id": "85ab5d96",
   "metadata": {
    "cell_style": "center",
    "slideshow": {
     "slide_type": "slide"
    }
   },
   "source": [
    "#### Another (better) way to do this:\n",
    "\n",
    "- ###### file object can be treated as iterable\n",
    "- for loop over file object:\n",
    "    - calls .readline() implicitly.\n",
    "    - terminates when no more lines: automatic"
   ]
  },
  {
   "cell_type": "code",
<<<<<<< HEAD
   "execution_count": 13,
   "id": "ff173545",
=======
   "execution_count": 35,
   "id": "3d430c94",
>>>>>>> 1c511e066ce4eb61918c68b3f95c380e2ffb945f
   "metadata": {
    "cell_style": "center",
    "slideshow": {
     "slide_type": "fragment"
    }
   },
   "outputs": [],
   "source": [
    "with open(\"Data/track_times.csv\", \"r\") as f:\n",
    "    data = []\n",
    "    delimiter = \",\"\n",
    "    # line is the result of f.readline() implicit:\n",
    "    for line in f:\n",
    "        # strip \"\\n\" and split on delimiter.\n",
    "        data.append(line.strip().split(delimiter))\n"
   ]
  },
  {
   "cell_type": "code",
<<<<<<< HEAD
   "execution_count": 14,
   "id": "8090ed81",
=======
   "execution_count": 36,
   "id": "5e83e9d0",
>>>>>>> 1c511e066ce4eb61918c68b3f95c380e2ffb945f
   "metadata": {
    "slideshow": {
     "slide_type": "slide"
    }
   },
   "outputs": [
    {
     "data": {
      "text/plain": [
       "[['13.1', '13.59', '13.44'],\n",
       " ['13.93', '13.85', '13.47'],\n",
       " ['14.12', '14.41', '13.89'],\n",
       " ['14.42', '13.55', '13.43']]"
      ]
     },
     "execution_count": 36,
     "metadata": {},
     "output_type": "execute_result"
    }
   ],
   "source": [
    "data"
   ]
  },
  {
   "cell_type": "markdown",
   "id": "b5d6f043",
   "metadata": {
    "slideshow": {
     "slide_type": "fragment"
    }
   },
   "source": [
    "Thats better, but it's still not exactly what we want.\n",
    "\n",
    "What's the issue?"
   ]
  },
  {
   "cell_type": "code",
<<<<<<< HEAD
   "execution_count": 15,
   "id": "6a911dc2",
=======
   "execution_count": 37,
   "id": "483d6105",
>>>>>>> 1c511e066ce4eb61918c68b3f95c380e2ffb945f
   "metadata": {
    "slideshow": {
     "slide_type": "fragment"
    }
   },
   "outputs": [
    {
     "name": "stdout",
     "output_type": "stream",
     "text": [
      "<class 'str'>\n"
     ]
    },
    {
     "data": {
      "text/plain": [
       "'13.1'"
      ]
     },
     "execution_count": 37,
     "metadata": {},
     "output_type": "execute_result"
    }
   ],
   "source": [
    "print(type(data[0][0]))\n",
    "data[0][0]"
   ]
  },
  {
   "cell_type": "markdown",
   "id": "31e57503",
   "metadata": {
    "slideshow": {
     "slide_type": "slide"
    }
   },
   "source": [
    "DATA TYPES!!! DATA TYPES!!! DATA TYPES!!!!\n",
    "\n",
    "Have to take care of this manually."
   ]
  },
  {
   "cell_type": "code",
<<<<<<< HEAD
   "execution_count": 16,
   "id": "51b788db",
=======
   "execution_count": 38,
   "id": "655def15",
>>>>>>> 1c511e066ce4eb61918c68b3f95c380e2ffb945f
   "metadata": {
    "slideshow": {
     "slide_type": "fragment"
    }
   },
   "outputs": [],
   "source": [
    "with open(\"Data/track_times.csv\", \"r\") as f:\n",
    "    data = []\n",
    "    for line in f:\n",
    "        # line is a string. strip \"\\n\" and split on delimiter.\n",
    "        delimiter = \",\"\n",
    "        stripped_line_list = line.strip().split(delimiter)\n",
    "        # convert each element from string to float\n",
    "        float_line = [float(x) for x in stripped_line_list]\n",
    "        \n",
    "        data.append(float_line)"
   ]
  },
  {
   "cell_type": "code",
<<<<<<< HEAD
   "execution_count": 17,
   "id": "bc5789df",
=======
   "execution_count": 39,
   "id": "f52522c9",
>>>>>>> 1c511e066ce4eb61918c68b3f95c380e2ffb945f
   "metadata": {
    "slideshow": {
     "slide_type": "subslide"
    }
   },
   "outputs": [
    {
     "data": {
      "text/plain": [
       "[[13.1, 13.59, 13.44],\n",
       " [13.93, 13.85, 13.47],\n",
       " [14.12, 14.41, 13.89],\n",
       " [14.42, 13.55, 13.43]]"
      ]
     },
     "execution_count": 39,
     "metadata": {},
     "output_type": "execute_result"
    }
   ],
   "source": [
    "data"
   ]
  },
  {
   "cell_type": "code",
<<<<<<< HEAD
   "execution_count": 13,
   "id": "7d5b7fd9",
=======
   "execution_count": 40,
   "id": "1cd842d8",
>>>>>>> 1c511e066ce4eb61918c68b3f95c380e2ffb945f
   "metadata": {
    "slideshow": {
     "slide_type": "fragment"
    }
   },
   "outputs": [
    {
     "data": {
      "text/plain": [
       "float"
      ]
     },
     "execution_count": 40,
     "metadata": {},
     "output_type": "execute_result"
    }
   ],
   "source": [
    "type(data[0][0])"
   ]
  },
  {
   "cell_type": "markdown",
   "id": "44eab924",
   "metadata": {
    "slideshow": {
     "slide_type": "slide"
    }
   },
   "source": [
    "#### Dealing with headers and column names.\n",
    "\n",
    "- Often .csv file explicitly contains column names on first row.\n",
    "- Have to deal with this."
   ]
  },
  {
   "cell_type": "code",
<<<<<<< HEAD
   "execution_count": 18,
   "id": "87788d42",
=======
   "execution_count": 57,
   "id": "6ef2fac7",
>>>>>>> 1c511e066ce4eb61918c68b3f95c380e2ffb945f
   "metadata": {
    "slideshow": {
     "slide_type": "fragment"
    }
   },
   "outputs": [
    {
     "data": {
      "text/plain": [
       "'Meet 1,Meet 2,Meet 3\\n13.1,13.59,13.44\\n13.93,13.85,13.47\\n14.12,14.41,13.89\\n14.42,13.55,13.43\\n'"
      ]
     },
     "execution_count": 57,
     "metadata": {},
     "output_type": "execute_result"
    }
   ],
   "source": [
    "with open(\"Data/track_times_header.csv\", \"r\") as f:\n",
    "    data = f.read()\n",
    "data"
   ]
  },
  {
   "cell_type": "code",
<<<<<<< HEAD
   "execution_count": 19,
   "id": "1a1ca989",
=======
   "execution_count": 42,
   "id": "7f4ff5a4",
>>>>>>> 1c511e066ce4eb61918c68b3f95c380e2ffb945f
   "metadata": {
    "slideshow": {
     "slide_type": "slide"
    }
   },
   "outputs": [],
   "source": [
    "\n",
    "data = []\n",
    "\n",
    "with open(\"Data/track_times_header.csv\", \"r\") as f:\n",
    "    col_line = 0  # lets say where column name line is.\n",
    "    delimiter = ','\n",
    "    # enumerate returns (integer index, element) tuple:\n",
    "    # helps us keep track of line number in file.\n",
    "    \n",
    "    for i, line in enumerate(f): \n",
    "        # line is a string. strip \"\\n\" and split on delimiter.\n",
    "        stripped_line_list = line.strip().split(delimiter) \n",
    "        \n",
    "        if i == 0: # ignores header info before column line\n",
    "            data.append(stripped_line_list)\n",
    "            \n",
    "        else:\n",
    "        # convert each element from string to float: only for lines \n",
    "            float_line = [float(x) for x in stripped_line_list]\n",
    "            data.append(float_line)\n",
    "  "
   ]
  },
  {
   "cell_type": "code",
<<<<<<< HEAD
   "execution_count": 20,
   "id": "3876b060",
=======
   "execution_count": 43,
   "id": "49412465",
>>>>>>> 1c511e066ce4eb61918c68b3f95c380e2ffb945f
   "metadata": {
    "slideshow": {
     "slide_type": "subslide"
    }
   },
   "outputs": [
    {
     "data": {
      "text/plain": [
       "[['Meet 1', 'Meet 2', 'Meet 3'],\n",
       " [13.1, 13.59, 13.44],\n",
       " [13.93, 13.85, 13.47],\n",
       " [14.12, 14.41, 13.89],\n",
       " [14.42, 13.55, 13.43]]"
      ]
     },
     "execution_count": 43,
     "metadata": {},
     "output_type": "execute_result"
    }
   ],
   "source": [
    "data"
   ]
  },
  {
   "cell_type": "markdown",
   "id": "e165d122",
   "metadata": {
    "slideshow": {
     "slide_type": "slide"
    }
   },
   "source": [
    "This is a common operation. \n",
    "- csv library can help with some of this:\n",
    "    - Takes care of stripping and splitting.\n",
    "    - Can take care of interpreting numeric types.\n",
    "    "
   ]
  },
  {
   "cell_type": "code",
<<<<<<< HEAD
   "execution_count": 21,
   "id": "587b8f9c",
=======
   "execution_count": 58,
   "id": "3b140b2f",
>>>>>>> 1c511e066ce4eb61918c68b3f95c380e2ffb945f
   "metadata": {
    "slideshow": {
     "slide_type": "fragment"
    }
   },
   "outputs": [],
   "source": [
    "# import csv library (included in base python)\n",
    "import csv"
   ]
  },
  {
   "cell_type": "code",
<<<<<<< HEAD
   "execution_count": 19,
   "id": "ffa568ef",
=======
   "execution_count": 62,
   "id": "af9e64e2",
>>>>>>> 1c511e066ce4eb61918c68b3f95c380e2ffb945f
   "metadata": {
    "cell_style": "center",
    "scrolled": true,
    "slideshow": {
     "slide_type": "slide"
    }
   },
   "outputs": [
    {
     "data": {
      "text/plain": [
       "[[13.1, 13.59, 13.44],\n",
       " [13.93, 13.85, 13.47],\n",
       " [14.12, 14.41, 13.89],\n",
       " [14.42, 13.55, 13.43]]"
      ]
     },
     "execution_count": 62,
     "metadata": {},
     "output_type": "execute_result"
    }
   ],
   "source": [
    "data = []\n",
    "\n",
    "with open(\"Data/track_times.csv\", \"r\") as f:\n",
    "    # converts to numeric automatically, strips and takes care of splitting on delimiters.   \n",
    "    csv_obj = csv.reader(f, delimiter = \",\" , quoting=csv.QUOTE_NONNUMERIC) \n",
    "    for row in csv_obj:\n",
    "        data.append(row)\n",
    "data  "
   ]
  },
  {
   "cell_type": "code",
   "execution_count": 61,
   "id": "8714e2df",
   "metadata": {},
   "outputs": [
    {
     "data": {
      "text/plain": [
       "<_csv.reader at 0x20909af5100>"
      ]
     },
     "execution_count": 61,
     "metadata": {},
     "output_type": "execute_result"
    }
   ],
   "source": [
    "csv_obj"
   ]
  },
  {
   "cell_type": "markdown",
   "id": "e9fc825b",
   "metadata": {
    "slideshow": {
     "slide_type": "subslide"
    }
   },
   "source": [
    "Compared to:"
   ]
  },
  {
   "cell_type": "code",
<<<<<<< HEAD
   "execution_count": 218,
   "id": "e3f4e7e6",
=======
   "execution_count": 46,
   "id": "f69f7590",
>>>>>>> 1c511e066ce4eb61918c68b3f95c380e2ffb945f
   "metadata": {
    "cell_style": "center",
    "slideshow": {
     "slide_type": "fragment"
    }
   },
   "outputs": [],
   "source": [
    "with open(\"Data/track_times.csv\", \"r\") as f:\n",
    "    data = []\n",
    "    for line in f:\n",
    "        # line is a string. strip \"\\n\" and split on delimiter.\n",
    "        delimiter = \",\"\n",
    "        stripped_line_list = line.strip().split(delimiter)\n",
    "        # convert each element from string to float\n",
    "        float_line = [float(x) for x in stripped_line_list]\n",
    "        \n",
    "        data.append(float_line)\n",
    "        data"
   ]
  },
  {
   "cell_type": "markdown",
   "id": "23417674",
   "metadata": {
    "cell_style": "center",
    "slideshow": {
     "slide_type": "slide"
    }
   },
   "source": [
    "Take in csv with column name row:"
   ]
  },
  {
   "cell_type": "code",
<<<<<<< HEAD
   "execution_count": 20,
   "id": "3b48709b",
=======
   "execution_count": 47,
   "id": "c09978ce",
>>>>>>> 1c511e066ce4eb61918c68b3f95c380e2ffb945f
   "metadata": {
    "cell_style": "center",
    "slideshow": {
     "slide_type": "fragment"
    }
   },
   "outputs": [
    {
     "data": {
      "text/plain": [
       "[['Meet 1', 'Meet 2', 'Meet 3'],\n",
       " ['13.1', '13.59', '13.44'],\n",
       " ['13.93', '13.85', '13.47'],\n",
       " ['14.12', '14.41', '13.89'],\n",
       " ['14.42', '13.55', '13.43']]"
      ]
     },
     "execution_count": 47,
     "metadata": {},
     "output_type": "execute_result"
    }
   ],
   "source": [
    "data = []\n",
    "with open(\"Data/track_times_header.csv\", \"r\") as f:\n",
    "    \n",
    "    # input the rest of the file into the csv reader\n",
    "    csv_obj = csv.reader(f, delimiter = ',')\n",
    "    for row in csv_obj:\n",
    "        data.append(row)\n",
    "        \n",
    "data"
   ]
  },
  {
   "cell_type": "markdown",
   "id": "e704531c",
   "metadata": {
    "slideshow": {
     "slide_type": "fragment"
    }
   },
   "source": [
    "Data in string format. If you want data in numeric form:"
   ]
  },
  {
   "cell_type": "code",
<<<<<<< HEAD
   "execution_count": 220,
   "id": "55426f3d",
=======
   "execution_count": 69,
   "id": "4853958f",
   "metadata": {},
   "outputs": [
    {
     "data": {
      "text/plain": [
       "0"
      ]
     },
     "execution_count": 69,
     "metadata": {},
     "output_type": "execute_result"
    }
   ],
   "source": [
    "waawaaa = (x**2 for x in range(0,4))\n",
    "\n",
    "waawaaa\n",
    "\n",
    "next(waawaaa)"
   ]
  },
  {
   "cell_type": "code",
   "execution_count": 73,
   "id": "e969ffd5",
   "metadata": {},
   "outputs": [
    {
     "ename": "StopIteration",
     "evalue": "",
     "output_type": "error",
     "traceback": [
      "\u001b[1;31m---------------------------------------------------------------------------\u001b[0m",
      "\u001b[1;31mStopIteration\u001b[0m                             Traceback (most recent call last)",
      "\u001b[1;32m~\\AppData\\Local\\Temp/ipykernel_14232/1287958893.py\u001b[0m in \u001b[0;36m<module>\u001b[1;34m\u001b[0m\n\u001b[1;32m----> 1\u001b[1;33m \u001b[0mnext\u001b[0m\u001b[1;33m(\u001b[0m\u001b[0mwaawaaa\u001b[0m\u001b[1;33m)\u001b[0m\u001b[1;33m\u001b[0m\u001b[1;33m\u001b[0m\u001b[0m\n\u001b[0m",
      "\u001b[1;31mStopIteration\u001b[0m: "
     ]
    }
   ],
   "source": [
    "next(waawaaa)"
   ]
  },
  {
   "cell_type": "code",
   "execution_count": 48,
   "id": "c61bc654",
>>>>>>> 1c511e066ce4eb61918c68b3f95c380e2ffb945f
   "metadata": {
    "cell_style": "center",
    "slideshow": {
     "slide_type": "subslide"
    }
   },
   "outputs": [
    {
     "data": {
      "text/plain": [
       "[['Meet 1', 'Meet 2', 'Meet 3'],\n",
       " [13.1, 13.59, 13.44],\n",
       " [13.93, 13.85, 13.47],\n",
       " [14.12, 14.41, 13.89],\n",
       " [14.42, 13.55, 13.43]]"
      ]
     },
     "execution_count": 48,
     "metadata": {},
     "output_type": "execute_result"
    }
   ],
   "source": [
    "data = []\n",
    "with open(\"Data/track_times_header.csv\", \"r\") as f:\n",
    "    # manually get first row as column names\n",
    "    cols = next(f).strip().split(',')\n",
    "    data.append(cols)\n",
    "\n",
    "    \n",
    "    # input the rest of the file into the csv reader\n",
    "    # convert to numeric\n",
    "    csv_obj = csv.reader(f, delimiter = ',', quoting = csv.QUOTE_NONNUMERIC)\n",
    "    \n",
    "    for row in csv_obj:\n",
    "        data.append(row)\n",
    "data"
   ]
  },
  {
   "cell_type": "markdown",
   "id": "98a25161",
   "metadata": {
    "slideshow": {
     "slide_type": "slide"
    }
   },
   "source": [
    "#### csv DictReader\n",
    "- gets each row as dictionary with key as column (attribute) names.\n",
    "- logical way to address data.\n"
   ]
  },
  {
   "cell_type": "code",
<<<<<<< HEAD
   "execution_count": 23,
   "id": "b1f5cfae",
=======
   "execution_count": 49,
   "id": "95061fab",
>>>>>>> 1c511e066ce4eb61918c68b3f95c380e2ffb945f
   "metadata": {
    "scrolled": true,
    "slideshow": {
     "slide_type": "fragment"
    }
   },
   "outputs": [
    {
     "data": {
      "text/plain": [
       "[{'Meet 1': '13.1', 'Meet 2': '13.59', 'Meet 3': '13.44'},\n",
       " {'Meet 1': '13.93', 'Meet 2': '13.85', 'Meet 3': '13.47'},\n",
       " {'Meet 1': '14.12', 'Meet 2': '14.41', 'Meet 3': '13.89'},\n",
       " {'Meet 1': '14.42', 'Meet 2': '13.55', 'Meet 3': '13.43'}]"
      ]
     },
     "execution_count": 49,
     "metadata": {},
     "output_type": "execute_result"
    }
   ],
   "source": [
    "with open(\"Data/track_times_header.csv\", \"r\") as f:\n",
    "    reader = csv.DictReader(f, delimiter = \",\")\n",
    "    data = list(reader)\n",
    "\n",
    "data"
   ]
  },
  {
   "cell_type": "code",
<<<<<<< HEAD
   "execution_count": 25,
   "id": "d5c24aba",
=======
   "execution_count": 50,
   "id": "e4c37d60",
>>>>>>> 1c511e066ce4eb61918c68b3f95c380e2ffb945f
   "metadata": {},
   "outputs": [
    {
     "data": {
      "text/plain": [
       "'13.89'"
      ]
     },
     "execution_count": 50,
     "metadata": {},
     "output_type": "execute_result"
    }
   ],
   "source": [
    "data[2]['Meet 3']"
   ]
  },
  {
   "cell_type": "markdown",
   "id": "5de72491",
   "metadata": {
    "slideshow": {
     "slide_type": "slide"
    }
   },
   "source": [
    "- Want to load numeric data as floats. Keeps column name keys as strings.\n",
    "    - csv Dictreader takes in fieldnames argument for column keys.\n",
    "    - Can tell Dictreader to interpret data as numeric."
   ]
  },
  {
   "cell_type": "code",
<<<<<<< HEAD
   "execution_count": 22,
   "id": "8a0b9022",
=======
   "execution_count": 75,
   "id": "5267a6d8",
>>>>>>> 1c511e066ce4eb61918c68b3f95c380e2ffb945f
   "metadata": {
    "slideshow": {
     "slide_type": "fragment"
    }
   },
   "outputs": [
    {
     "data": {
      "text/plain": [
       "[{'Meet 1': 13.1, 'Meet 2': 13.59, 'Meet 3': 13.44},\n",
       " {'Meet 1': 13.93, 'Meet 2': 13.85, 'Meet 3': 13.47},\n",
       " {'Meet 1': 14.12, 'Meet 2': 14.41, 'Meet 3': 13.89},\n",
       " {'Meet 1': 14.42, 'Meet 2': 13.55, 'Meet 3': 13.43}]"
      ]
     },
     "execution_count": 75,
     "metadata": {},
     "output_type": "execute_result"
    }
   ],
   "source": [
    "with open(\"Data/track_times_header.csv\", \"r\") as f:\n",
    "    colnames = next(f).strip().split(',')\n",
    "    reader = csv.DictReader(f, delimiter = \",\", quoting=csv.QUOTE_NONNUMERIC, fieldnames = colnames)\n",
    "    data = list(reader)\n",
    "\n",
    "data"
   ]
  },
  {
   "cell_type": "code",
<<<<<<< HEAD
   "execution_count": 18,
   "id": "280c54bb",
=======
   "execution_count": 52,
   "id": "50a3c6ad",
>>>>>>> 1c511e066ce4eb61918c68b3f95c380e2ffb945f
   "metadata": {
    "slideshow": {
     "slide_type": "fragment"
    }
   },
   "outputs": [
    {
     "name": "stdout",
     "output_type": "stream",
     "text": [
      "<class 'float'>\n"
     ]
    },
    {
     "data": {
      "text/plain": [
       "13.59"
      ]
     },
     "execution_count": 52,
     "metadata": {},
     "output_type": "execute_result"
    }
   ],
   "source": [
    "print(type(data[0]['Meet 2']))\n",
    "data[0]['Meet 2']"
   ]
  },
  {
   "cell_type": "markdown",
   "id": "59f0b836",
   "metadata": {
    "cell_style": "split",
    "slideshow": {
     "slide_type": "slide"
    }
   },
   "source": [
    "What we've learned:\n",
    "\n",
    "- How to import CSVs:\n",
    "    - base python\n",
    "    - csv library.\n",
    "- Dealing with:\n",
    "    - headers: code\n",
    "    - column names: more code\n",
    "    - different data types: tricky, more code\n"
   ]
  },
  {
   "cell_type": "markdown",
   "id": "613b6b71",
   "metadata": {
    "cell_style": "split",
    "slideshow": {
     "slide_type": "fragment"
    }
   },
   "source": [
    "Important to know base python data importing for csv...\n",
    "\n",
    "but:"
   ]
  },
  {
   "cell_type": "markdown",
   "id": "8af5cd03",
   "metadata": {
    "slideshow": {
     "slide_type": "slide"
    }
   },
   "source": [
    "Pandas will save us from code apocalypse!!!\n",
    "<br>\n",
    "<br>\n",
    "<div align = \"right\">\n",
    "    <center><img src=\"Images/pandas.jpg\" align = \"center\" width=\"500\"/></center>\n",
    "</div>\n",
    "    \n",
    "\n",
    "\n"
   ]
  }
 ],
 "metadata": {
  "celltoolbar": "Slideshow",
  "kernelspec": {
   "display_name": "Python 3 (ipykernel)",
   "language": "python",
   "name": "python3"
  },
  "language_info": {
   "codemirror_mode": {
    "name": "ipython",
    "version": 3
   },
   "file_extension": ".py",
   "mimetype": "text/x-python",
   "name": "python",
   "nbconvert_exporter": "python",
   "pygments_lexer": "ipython3",
   "version": "3.10.9"
  }
 },
 "nbformat": 4,
 "nbformat_minor": 5
}
