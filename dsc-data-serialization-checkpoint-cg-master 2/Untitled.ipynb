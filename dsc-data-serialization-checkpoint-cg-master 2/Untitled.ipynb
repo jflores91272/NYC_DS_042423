{
 "cells": [
  {
   "cell_type": "code",
   "execution_count": 1,
   "id": "a3e9f779",
   "metadata": {},
   "outputs": [],
   "source": [
    "data= [4,1,7,2,3,8]"
   ]
  },
  {
   "cell_type": "code",
   "execution_count": 7,
   "id": "c985cfda",
   "metadata": {},
   "outputs": [
    {
     "data": {
      "text/plain": [
       "[4, 7, 8]"
      ]
     },
     "execution_count": 7,
     "metadata": {},
     "output_type": "execute_result"
    }
   ],
   "source": [
    "large_vals=[]\n",
    "for x in data:\n",
    "    if x >3:\n",
    "        large_vals.append(x)\n",
    "large_vals"
   ]
  },
  {
   "cell_type": "code",
   "execution_count": 10,
   "id": "168d82e2",
   "metadata": {},
   "outputs": [
    {
     "data": {
      "text/plain": [
       "[4, 7, 8]"
      ]
     },
     "execution_count": 10,
     "metadata": {},
     "output_type": "execute_result"
    }
   ],
   "source": [
    "data\n",
    "[x for x in data if x>3]"
   ]
  },
  {
   "cell_type": "code",
   "execution_count": null,
   "id": "0482e3d7",
   "metadata": {},
   "outputs": [],
   "source": []
  }
 ],
 "metadata": {
  "kernelspec": {
   "display_name": "Pyton (Learn-env)",
   "language": "python",
   "name": "learn-env"
  },
  "language_info": {
   "codemirror_mode": {
    "name": "ipython",
    "version": 3
   },
   "file_extension": ".py",
   "mimetype": "text/x-python",
   "name": "python",
   "nbconvert_exporter": "python",
   "pygments_lexer": "ipython3",
   "version": "3.8.5"
  }
 },
 "nbformat": 4,
 "nbformat_minor": 5
}
